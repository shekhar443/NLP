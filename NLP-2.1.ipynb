{
 "cells": [
  {
   "cell_type": "code",
   "execution_count": 1,
   "metadata": {
    "colab": {
     "base_uri": "https://localhost:8080/"
    },
    "id": "NEYmPWRjvwjL",
    "outputId": "8f6cf459-0547-4c5e-97e1-3836add3c6af",
    "scrolled": true
   },
   "outputs": [
    {
     "name": "stdout",
     "output_type": "stream",
     "text": [
      "Looking in indexes: https://pypi.org/simple, https://us-python.pkg.dev/colab-wheels/public/simple/\n",
      "Collecting tensorflow-gpu\n",
      "  Downloading tensorflow_gpu-2.10.0-cp37-cp37m-manylinux_2_17_x86_64.manylinux2014_x86_64.whl (578.0 MB)\n",
      "\u001b[K     |████████████████████████████████| 578.0 MB 15 kB/s \n",
      "\u001b[?25hRequirement already satisfied: numpy>=1.20 in /usr/local/lib/python3.7/dist-packages (from tensorflow-gpu) (1.21.6)\n",
      "Requirement already satisfied: termcolor>=1.1.0 in /usr/local/lib/python3.7/dist-packages (from tensorflow-gpu) (2.0.1)\n",
      "Requirement already satisfied: typing-extensions>=3.6.6 in /usr/local/lib/python3.7/dist-packages (from tensorflow-gpu) (4.1.1)\n",
      "Collecting tensorflow-estimator<2.11,>=2.10.0\n",
      "  Downloading tensorflow_estimator-2.10.0-py2.py3-none-any.whl (438 kB)\n",
      "\u001b[K     |████████████████████████████████| 438 kB 65.0 MB/s \n",
      "\u001b[?25hRequirement already satisfied: protobuf<3.20,>=3.9.2 in /usr/local/lib/python3.7/dist-packages (from tensorflow-gpu) (3.17.3)\n",
      "Collecting tensorboard<2.11,>=2.10\n",
      "  Downloading tensorboard-2.10.1-py3-none-any.whl (5.9 MB)\n",
      "\u001b[K     |████████████████████████████████| 5.9 MB 38.4 MB/s \n",
      "\u001b[?25hCollecting flatbuffers>=2.0\n",
      "  Downloading flatbuffers-22.9.24-py2.py3-none-any.whl (26 kB)\n",
      "Requirement already satisfied: h5py>=2.9.0 in /usr/local/lib/python3.7/dist-packages (from tensorflow-gpu) (3.1.0)\n",
      "Requirement already satisfied: opt-einsum>=2.3.2 in /usr/local/lib/python3.7/dist-packages (from tensorflow-gpu) (3.3.0)\n",
      "Requirement already satisfied: six>=1.12.0 in /usr/local/lib/python3.7/dist-packages (from tensorflow-gpu) (1.15.0)\n",
      "Requirement already satisfied: astunparse>=1.6.0 in /usr/local/lib/python3.7/dist-packages (from tensorflow-gpu) (1.6.3)\n",
      "Requirement already satisfied: packaging in /usr/local/lib/python3.7/dist-packages (from tensorflow-gpu) (21.3)\n",
      "Requirement already satisfied: keras-preprocessing>=1.1.1 in /usr/local/lib/python3.7/dist-packages (from tensorflow-gpu) (1.1.2)\n",
      "Requirement already satisfied: wrapt>=1.11.0 in /usr/local/lib/python3.7/dist-packages (from tensorflow-gpu) (1.14.1)\n",
      "Requirement already satisfied: libclang>=13.0.0 in /usr/local/lib/python3.7/dist-packages (from tensorflow-gpu) (14.0.6)\n",
      "Requirement already satisfied: grpcio<2.0,>=1.24.3 in /usr/local/lib/python3.7/dist-packages (from tensorflow-gpu) (1.49.1)\n",
      "Requirement already satisfied: gast<=0.4.0,>=0.2.1 in /usr/local/lib/python3.7/dist-packages (from tensorflow-gpu) (0.4.0)\n",
      "Collecting keras<2.11,>=2.10.0\n",
      "  Downloading keras-2.10.0-py2.py3-none-any.whl (1.7 MB)\n",
      "\u001b[K     |████████████████████████████████| 1.7 MB 53.4 MB/s \n",
      "\u001b[?25hRequirement already satisfied: absl-py>=1.0.0 in /usr/local/lib/python3.7/dist-packages (from tensorflow-gpu) (1.2.0)\n",
      "Requirement already satisfied: tensorflow-io-gcs-filesystem>=0.23.1 in /usr/local/lib/python3.7/dist-packages (from tensorflow-gpu) (0.27.0)\n",
      "Requirement already satisfied: setuptools in /usr/local/lib/python3.7/dist-packages (from tensorflow-gpu) (57.4.0)\n",
      "Requirement already satisfied: google-pasta>=0.1.1 in /usr/local/lib/python3.7/dist-packages (from tensorflow-gpu) (0.2.0)\n",
      "Requirement already satisfied: wheel<1.0,>=0.23.0 in /usr/local/lib/python3.7/dist-packages (from astunparse>=1.6.0->tensorflow-gpu) (0.37.1)\n",
      "Requirement already satisfied: cached-property in /usr/local/lib/python3.7/dist-packages (from h5py>=2.9.0->tensorflow-gpu) (1.5.2)\n",
      "Requirement already satisfied: werkzeug>=1.0.1 in /usr/local/lib/python3.7/dist-packages (from tensorboard<2.11,>=2.10->tensorflow-gpu) (1.0.1)\n",
      "Requirement already satisfied: requests<3,>=2.21.0 in /usr/local/lib/python3.7/dist-packages (from tensorboard<2.11,>=2.10->tensorflow-gpu) (2.23.0)\n",
      "Requirement already satisfied: tensorboard-plugin-wit>=1.6.0 in /usr/local/lib/python3.7/dist-packages (from tensorboard<2.11,>=2.10->tensorflow-gpu) (1.8.1)\n",
      "Requirement already satisfied: google-auth-oauthlib<0.5,>=0.4.1 in /usr/local/lib/python3.7/dist-packages (from tensorboard<2.11,>=2.10->tensorflow-gpu) (0.4.6)\n",
      "Requirement already satisfied: markdown>=2.6.8 in /usr/local/lib/python3.7/dist-packages (from tensorboard<2.11,>=2.10->tensorflow-gpu) (3.4.1)\n",
      "Requirement already satisfied: google-auth<3,>=1.6.3 in /usr/local/lib/python3.7/dist-packages (from tensorboard<2.11,>=2.10->tensorflow-gpu) (1.35.0)\n",
      "Requirement already satisfied: tensorboard-data-server<0.7.0,>=0.6.0 in /usr/local/lib/python3.7/dist-packages (from tensorboard<2.11,>=2.10->tensorflow-gpu) (0.6.1)\n",
      "Requirement already satisfied: pyasn1-modules>=0.2.1 in /usr/local/lib/python3.7/dist-packages (from google-auth<3,>=1.6.3->tensorboard<2.11,>=2.10->tensorflow-gpu) (0.2.8)\n",
      "Requirement already satisfied: rsa<5,>=3.1.4 in /usr/local/lib/python3.7/dist-packages (from google-auth<3,>=1.6.3->tensorboard<2.11,>=2.10->tensorflow-gpu) (4.9)\n",
      "Requirement already satisfied: cachetools<5.0,>=2.0.0 in /usr/local/lib/python3.7/dist-packages (from google-auth<3,>=1.6.3->tensorboard<2.11,>=2.10->tensorflow-gpu) (4.2.4)\n",
      "Requirement already satisfied: requests-oauthlib>=0.7.0 in /usr/local/lib/python3.7/dist-packages (from google-auth-oauthlib<0.5,>=0.4.1->tensorboard<2.11,>=2.10->tensorflow-gpu) (1.3.1)\n",
      "Requirement already satisfied: importlib-metadata>=4.4 in /usr/local/lib/python3.7/dist-packages (from markdown>=2.6.8->tensorboard<2.11,>=2.10->tensorflow-gpu) (5.0.0)\n",
      "Requirement already satisfied: zipp>=0.5 in /usr/local/lib/python3.7/dist-packages (from importlib-metadata>=4.4->markdown>=2.6.8->tensorboard<2.11,>=2.10->tensorflow-gpu) (3.9.0)\n",
      "Requirement already satisfied: pyasn1<0.5.0,>=0.4.6 in /usr/local/lib/python3.7/dist-packages (from pyasn1-modules>=0.2.1->google-auth<3,>=1.6.3->tensorboard<2.11,>=2.10->tensorflow-gpu) (0.4.8)\n",
      "Requirement already satisfied: certifi>=2017.4.17 in /usr/local/lib/python3.7/dist-packages (from requests<3,>=2.21.0->tensorboard<2.11,>=2.10->tensorflow-gpu) (2022.9.24)\n",
      "Requirement already satisfied: idna<3,>=2.5 in /usr/local/lib/python3.7/dist-packages (from requests<3,>=2.21.0->tensorboard<2.11,>=2.10->tensorflow-gpu) (2.10)\n",
      "Requirement already satisfied: chardet<4,>=3.0.2 in /usr/local/lib/python3.7/dist-packages (from requests<3,>=2.21.0->tensorboard<2.11,>=2.10->tensorflow-gpu) (3.0.4)\n",
      "Requirement already satisfied: urllib3!=1.25.0,!=1.25.1,<1.26,>=1.21.1 in /usr/local/lib/python3.7/dist-packages (from requests<3,>=2.21.0->tensorboard<2.11,>=2.10->tensorflow-gpu) (1.24.3)\n",
      "Requirement already satisfied: oauthlib>=3.0.0 in /usr/local/lib/python3.7/dist-packages (from requests-oauthlib>=0.7.0->google-auth-oauthlib<0.5,>=0.4.1->tensorboard<2.11,>=2.10->tensorflow-gpu) (3.2.1)\n",
      "Requirement already satisfied: pyparsing!=3.0.5,>=2.0.2 in /usr/local/lib/python3.7/dist-packages (from packaging->tensorflow-gpu) (3.0.9)\n",
      "Installing collected packages: tensorflow-estimator, tensorboard, keras, flatbuffers, tensorflow-gpu\n",
      "  Attempting uninstall: tensorflow-estimator\n",
      "    Found existing installation: tensorflow-estimator 2.9.0\n",
      "    Uninstalling tensorflow-estimator-2.9.0:\n",
      "      Successfully uninstalled tensorflow-estimator-2.9.0\n",
      "  Attempting uninstall: tensorboard\n",
      "    Found existing installation: tensorboard 2.9.1\n",
      "    Uninstalling tensorboard-2.9.1:\n",
      "      Successfully uninstalled tensorboard-2.9.1\n",
      "  Attempting uninstall: keras\n",
      "    Found existing installation: keras 2.9.0\n",
      "    Uninstalling keras-2.9.0:\n",
      "      Successfully uninstalled keras-2.9.0\n",
      "  Attempting uninstall: flatbuffers\n",
      "    Found existing installation: flatbuffers 1.12\n",
      "    Uninstalling flatbuffers-1.12:\n",
      "      Successfully uninstalled flatbuffers-1.12\n",
      "\u001b[31mERROR: pip's dependency resolver does not currently take into account all the packages that are installed. This behaviour is the source of the following dependency conflicts.\n",
      "tensorflow 2.9.2 requires flatbuffers<2,>=1.12, but you have flatbuffers 22.9.24 which is incompatible.\n",
      "tensorflow 2.9.2 requires keras<2.10.0,>=2.9.0rc0, but you have keras 2.10.0 which is incompatible.\n",
      "tensorflow 2.9.2 requires tensorboard<2.10,>=2.9, but you have tensorboard 2.10.1 which is incompatible.\n",
      "tensorflow 2.9.2 requires tensorflow-estimator<2.10.0,>=2.9.0rc0, but you have tensorflow-estimator 2.10.0 which is incompatible.\u001b[0m\n",
      "Successfully installed flatbuffers-22.9.24 keras-2.10.0 tensorboard-2.10.1 tensorflow-estimator-2.10.0 tensorflow-gpu-2.10.0\n"
     ]
    }
   ],
   "source": [
    "!pip install tensorflow-gpu"
   ]
  },
  {
   "cell_type": "code",
   "execution_count": 2,
   "metadata": {
    "id": "1wK_IZvdv8Ce"
   },
   "outputs": [],
   "source": [
    "from tensorflow.keras.preprocessing.text import one_hot"
   ]
  },
  {
   "cell_type": "code",
   "execution_count": 3,
   "metadata": {
    "id": "Bd5b0pZ1wUcB"
   },
   "outputs": [],
   "source": [
    "sent=[\" the glass of milk\",\n",
    "      'the glass of juise',\n",
    "      'the cup of tea',\n",
    "      'i am a good boy',\n",
    "      'i am a good developer',\n",
    "      'underastand the meaning of words',\n",
    "      'your videos are good']"
   ]
  },
  {
   "cell_type": "code",
   "execution_count": 4,
   "metadata": {
    "colab": {
     "base_uri": "https://localhost:8080/"
    },
    "id": "xxkSXR6ExMPF",
    "outputId": "3fcb543e-d015-4354-ff70-727b3ee0bbd0",
    "scrolled": true
   },
   "outputs": [
    {
     "data": {
      "text/plain": [
       "[' the glass of milk',\n",
       " 'the glass of juise',\n",
       " 'the cup of tea',\n",
       " 'i am a good boy',\n",
       " 'i am a good developer',\n",
       " 'underastand the meaning of words',\n",
       " 'your videos are good']"
      ]
     },
     "execution_count": 4,
     "metadata": {},
     "output_type": "execute_result"
    }
   ],
   "source": [
    "sent"
   ]
  },
  {
   "cell_type": "code",
   "execution_count": 12,
   "metadata": {
    "id": "YwDkcsZ7xNCU"
   },
   "outputs": [],
   "source": [
    "voc_size=10000"
   ]
  },
  {
   "cell_type": "code",
   "execution_count": 13,
   "metadata": {
    "id": "ATuOPz5SxUBc"
   },
   "outputs": [],
   "source": [
    "onehot_repr=[one_hot(words,voc_size) for words in sent]"
   ]
  },
  {
   "cell_type": "code",
   "execution_count": 14,
   "metadata": {
    "colab": {
     "base_uri": "https://localhost:8080/"
    },
    "id": "88u5JQ63xs7U",
    "outputId": "425820d0-aefe-440a-b11c-e3160864cd33"
   },
   "outputs": [
    {
     "data": {
      "text/plain": [
       "[[993, 3683, 6295, 8043],\n",
       " [993, 3683, 6295, 4473],\n",
       " [993, 5750, 6295, 5595],\n",
       " [7383, 3196, 8266, 6288, 8840],\n",
       " [7383, 3196, 8266, 6288, 7538],\n",
       " [3469, 993, 1425, 6295, 4068],\n",
       " [7850, 2588, 8572, 6288]]"
      ]
     },
     "execution_count": 14,
     "metadata": {},
     "output_type": "execute_result"
    }
   ],
   "source": [
    "onehot_repr"
   ]
  },
  {
   "cell_type": "code",
   "execution_count": 15,
   "metadata": {
    "id": "jy_9DxHPx2qD"
   },
   "outputs": [],
   "source": [
    "from tensorflow.keras.layers import Embedding\n",
    "from tensorflow.keras.preprocessing.sequence import pad_sequences\n",
    "from tensorflow.keras.models import Sequential"
   ]
  },
  {
   "cell_type": "code",
   "execution_count": 16,
   "metadata": {
    "id": "uiflr5rdzZg7"
   },
   "outputs": [],
   "source": [
    "import numpy as np"
   ]
  },
  {
   "cell_type": "code",
   "execution_count": 18,
   "metadata": {
    "colab": {
     "base_uri": "https://localhost:8080/"
    },
    "id": "CieQET6BzjLr",
    "outputId": "2136529d-75bc-4770-b904-388be59d7f01"
   },
   "outputs": [
    {
     "name": "stdout",
     "output_type": "stream",
     "text": [
      "[[   0    0    0    0  993 3683 6295 8043]\n",
      " [   0    0    0    0  993 3683 6295 4473]\n",
      " [   0    0    0    0  993 5750 6295 5595]\n",
      " [   0    0    0 7383 3196 8266 6288 8840]\n",
      " [   0    0    0 7383 3196 8266 6288 7538]\n",
      " [   0    0    0 3469  993 1425 6295 4068]\n",
      " [   0    0    0    0 7850 2588 8572 6288]]\n"
     ]
    }
   ],
   "source": [
    "sent_length=8\n",
    "embedded_docs=pad_sequences(onehot_repr,padding='pre',maxlen=sent_length)\n",
    "print(embedded_docs)"
   ]
  },
  {
   "cell_type": "code",
   "execution_count": 19,
   "metadata": {
    "id": "OBPbJLxa0IW1"
   },
   "outputs": [],
   "source": [
    "dim=10"
   ]
  },
  {
   "cell_type": "code",
   "execution_count": 21,
   "metadata": {
    "id": "OLRwBqIl0Xvm"
   },
   "outputs": [],
   "source": [
    "model=Sequential()\n",
    "model.add(Embedding(voc_size,10,input_length=sent_length))\n",
    "model.compile('adam','mse')"
   ]
  },
  {
   "cell_type": "code",
   "execution_count": 22,
   "metadata": {
    "colab": {
     "base_uri": "https://localhost:8080/"
    },
    "id": "EJUL9vPg0180",
    "outputId": "47cac4e4-ccc9-41bf-92ed-d6afcb464c23"
   },
   "outputs": [
    {
     "name": "stdout",
     "output_type": "stream",
     "text": [
      "Model: \"sequential_1\"\n",
      "_________________________________________________________________\n",
      " Layer (type)                Output Shape              Param #   \n",
      "=================================================================\n",
      " embedding_1 (Embedding)     (None, 8, 10)             100000    \n",
      "                                                                 \n",
      "=================================================================\n",
      "Total params: 100,000\n",
      "Trainable params: 100,000\n",
      "Non-trainable params: 0\n",
      "_________________________________________________________________\n"
     ]
    }
   ],
   "source": [
    "model.summary()"
   ]
  },
  {
   "cell_type": "code",
   "execution_count": 23,
   "metadata": {
    "colab": {
     "base_uri": "https://localhost:8080/"
    },
    "id": "E-sMWko-1QHU",
    "outputId": "f79b6e3a-0b51-41b7-b047-2c8015bf8bfd"
   },
   "outputs": [
    {
     "name": "stderr",
     "output_type": "stream",
     "text": [
      "WARNING:tensorflow:Model was constructed with shape (None, 8) for input KerasTensor(type_spec=TensorSpec(shape=(None, 8), dtype=tf.float32, name='embedding_1_input'), name='embedding_1_input', description=\"created by layer 'embedding_1_input'\"), but it was called on an input with incompatible shape (None,).\n"
     ]
    },
    {
     "name": "stdout",
     "output_type": "stream",
     "text": [
      "1/1 [==============================] - 0s 120ms/step\n"
     ]
    },
    {
     "data": {
      "text/plain": [
       "array([[-0.01529083,  0.00098419,  0.03754191, -0.00142682,  0.0077273 ,\n",
       "         0.03949627,  0.01937426,  0.02212906, -0.00063302, -0.01477421],\n",
       "       [-0.01529083,  0.00098419,  0.03754191, -0.00142682,  0.0077273 ,\n",
       "         0.03949627,  0.01937426,  0.02212906, -0.00063302, -0.01477421],\n",
       "       [-0.01529083,  0.00098419,  0.03754191, -0.00142682,  0.0077273 ,\n",
       "         0.03949627,  0.01937426,  0.02212906, -0.00063302, -0.01477421],\n",
       "       [-0.01529083,  0.00098419,  0.03754191, -0.00142682,  0.0077273 ,\n",
       "         0.03949627,  0.01937426,  0.02212906, -0.00063302, -0.01477421],\n",
       "       [ 0.049081  , -0.02026292,  0.04064104, -0.03320284,  0.01870752,\n",
       "         0.03665607,  0.00040274,  0.02844061,  0.01990711, -0.04514698],\n",
       "       [ 0.0307156 , -0.04310882, -0.00227233,  0.00156976, -0.01188217,\n",
       "         0.01038697, -0.04748994,  0.02404219, -0.0382333 , -0.00171085],\n",
       "       [-0.01837982, -0.03122826,  0.03286156,  0.00777595,  0.01259252,\n",
       "        -0.03374817, -0.00393452, -0.0413987 , -0.00953482,  0.04030372],\n",
       "       [-0.01218101, -0.00974185, -0.02211112,  0.00591139,  0.03905045,\n",
       "        -0.04421452,  0.02636934, -0.04924434, -0.03775637,  0.03744482]],\n",
       "      dtype=float32)"
      ]
     },
     "execution_count": 23,
     "metadata": {},
     "output_type": "execute_result"
    }
   ],
   "source": [
    "model.predict(embedded_docs[0])"
   ]
  },
  {
   "cell_type": "code",
   "execution_count": 24,
   "metadata": {
    "colab": {
     "base_uri": "https://localhost:8080/"
    },
    "id": "j9aMX0G01lw8",
    "outputId": "ac9a01d7-e0bf-4680-f7c2-28eb69496a43"
   },
   "outputs": [
    {
     "name": "stdout",
     "output_type": "stream",
     "text": [
      "1/1 [==============================] - 0s 44ms/step\n"
     ]
    },
    {
     "data": {
      "text/plain": [
       "array([[[-0.01529083,  0.00098419,  0.03754191, -0.00142682,\n",
       "          0.0077273 ,  0.03949627,  0.01937426,  0.02212906,\n",
       "         -0.00063302, -0.01477421],\n",
       "        [-0.01529083,  0.00098419,  0.03754191, -0.00142682,\n",
       "          0.0077273 ,  0.03949627,  0.01937426,  0.02212906,\n",
       "         -0.00063302, -0.01477421],\n",
       "        [-0.01529083,  0.00098419,  0.03754191, -0.00142682,\n",
       "          0.0077273 ,  0.03949627,  0.01937426,  0.02212906,\n",
       "         -0.00063302, -0.01477421],\n",
       "        [-0.01529083,  0.00098419,  0.03754191, -0.00142682,\n",
       "          0.0077273 ,  0.03949627,  0.01937426,  0.02212906,\n",
       "         -0.00063302, -0.01477421],\n",
       "        [ 0.049081  , -0.02026292,  0.04064104, -0.03320284,\n",
       "          0.01870752,  0.03665607,  0.00040274,  0.02844061,\n",
       "          0.01990711, -0.04514698],\n",
       "        [ 0.0307156 , -0.04310882, -0.00227233,  0.00156976,\n",
       "         -0.01188217,  0.01038697, -0.04748994,  0.02404219,\n",
       "         -0.0382333 , -0.00171085],\n",
       "        [-0.01837982, -0.03122826,  0.03286156,  0.00777595,\n",
       "          0.01259252, -0.03374817, -0.00393452, -0.0413987 ,\n",
       "         -0.00953482,  0.04030372],\n",
       "        [-0.01218101, -0.00974185, -0.02211112,  0.00591139,\n",
       "          0.03905045, -0.04421452,  0.02636934, -0.04924434,\n",
       "         -0.03775637,  0.03744482]],\n",
       "\n",
       "       [[-0.01529083,  0.00098419,  0.03754191, -0.00142682,\n",
       "          0.0077273 ,  0.03949627,  0.01937426,  0.02212906,\n",
       "         -0.00063302, -0.01477421],\n",
       "        [-0.01529083,  0.00098419,  0.03754191, -0.00142682,\n",
       "          0.0077273 ,  0.03949627,  0.01937426,  0.02212906,\n",
       "         -0.00063302, -0.01477421],\n",
       "        [-0.01529083,  0.00098419,  0.03754191, -0.00142682,\n",
       "          0.0077273 ,  0.03949627,  0.01937426,  0.02212906,\n",
       "         -0.00063302, -0.01477421],\n",
       "        [-0.01529083,  0.00098419,  0.03754191, -0.00142682,\n",
       "          0.0077273 ,  0.03949627,  0.01937426,  0.02212906,\n",
       "         -0.00063302, -0.01477421],\n",
       "        [ 0.049081  , -0.02026292,  0.04064104, -0.03320284,\n",
       "          0.01870752,  0.03665607,  0.00040274,  0.02844061,\n",
       "          0.01990711, -0.04514698],\n",
       "        [ 0.0307156 , -0.04310882, -0.00227233,  0.00156976,\n",
       "         -0.01188217,  0.01038697, -0.04748994,  0.02404219,\n",
       "         -0.0382333 , -0.00171085],\n",
       "        [-0.01837982, -0.03122826,  0.03286156,  0.00777595,\n",
       "          0.01259252, -0.03374817, -0.00393452, -0.0413987 ,\n",
       "         -0.00953482,  0.04030372],\n",
       "        [ 0.04804977,  0.03529974, -0.00779712, -0.01360803,\n",
       "         -0.03039757,  0.01233392, -0.04722316, -0.0217781 ,\n",
       "         -0.02959274,  0.01190416]],\n",
       "\n",
       "       [[-0.01529083,  0.00098419,  0.03754191, -0.00142682,\n",
       "          0.0077273 ,  0.03949627,  0.01937426,  0.02212906,\n",
       "         -0.00063302, -0.01477421],\n",
       "        [-0.01529083,  0.00098419,  0.03754191, -0.00142682,\n",
       "          0.0077273 ,  0.03949627,  0.01937426,  0.02212906,\n",
       "         -0.00063302, -0.01477421],\n",
       "        [-0.01529083,  0.00098419,  0.03754191, -0.00142682,\n",
       "          0.0077273 ,  0.03949627,  0.01937426,  0.02212906,\n",
       "         -0.00063302, -0.01477421],\n",
       "        [-0.01529083,  0.00098419,  0.03754191, -0.00142682,\n",
       "          0.0077273 ,  0.03949627,  0.01937426,  0.02212906,\n",
       "         -0.00063302, -0.01477421],\n",
       "        [ 0.049081  , -0.02026292,  0.04064104, -0.03320284,\n",
       "          0.01870752,  0.03665607,  0.00040274,  0.02844061,\n",
       "          0.01990711, -0.04514698],\n",
       "        [-0.04373163, -0.00876426,  0.04001986, -0.04616044,\n",
       "          0.01013503, -0.04498748,  0.02264914,  0.00486349,\n",
       "          0.03530874, -0.03138657],\n",
       "        [-0.01837982, -0.03122826,  0.03286156,  0.00777595,\n",
       "          0.01259252, -0.03374817, -0.00393452, -0.0413987 ,\n",
       "         -0.00953482,  0.04030372],\n",
       "        [-0.03368237,  0.00291563, -0.01262609, -0.03699881,\n",
       "         -0.03194962,  0.01263109,  0.04428275, -0.01685431,\n",
       "         -0.0468868 , -0.00602062]],\n",
       "\n",
       "       [[-0.01529083,  0.00098419,  0.03754191, -0.00142682,\n",
       "          0.0077273 ,  0.03949627,  0.01937426,  0.02212906,\n",
       "         -0.00063302, -0.01477421],\n",
       "        [-0.01529083,  0.00098419,  0.03754191, -0.00142682,\n",
       "          0.0077273 ,  0.03949627,  0.01937426,  0.02212906,\n",
       "         -0.00063302, -0.01477421],\n",
       "        [-0.01529083,  0.00098419,  0.03754191, -0.00142682,\n",
       "          0.0077273 ,  0.03949627,  0.01937426,  0.02212906,\n",
       "         -0.00063302, -0.01477421],\n",
       "        [-0.03173348, -0.01997832,  0.03082818,  0.03772687,\n",
       "          0.036064  , -0.0256041 , -0.01293283,  0.03174689,\n",
       "          0.01594912, -0.02423873],\n",
       "        [-0.02200375, -0.00517269,  0.0478861 , -0.02120497,\n",
       "         -0.00760751,  0.00179622,  0.04582435,  0.00974212,\n",
       "         -0.01065908,  0.03506107],\n",
       "        [-0.04059882,  0.0023096 ,  0.03579012, -0.03035954,\n",
       "         -0.02896142, -0.00019712, -0.0408382 ,  0.01194391,\n",
       "         -0.02318045, -0.03004738],\n",
       "        [ 0.02285546, -0.03700101, -0.04323454,  0.03292825,\n",
       "         -0.04729457,  0.04018185,  0.02899254,  0.02718231,\n",
       "         -0.02811862,  0.02873837],\n",
       "        [-0.01225456, -0.00227109, -0.0173259 , -0.00544167,\n",
       "          0.00111834, -0.02291803,  0.0136415 , -0.02121233,\n",
       "         -0.04341762, -0.01133703]],\n",
       "\n",
       "       [[-0.01529083,  0.00098419,  0.03754191, -0.00142682,\n",
       "          0.0077273 ,  0.03949627,  0.01937426,  0.02212906,\n",
       "         -0.00063302, -0.01477421],\n",
       "        [-0.01529083,  0.00098419,  0.03754191, -0.00142682,\n",
       "          0.0077273 ,  0.03949627,  0.01937426,  0.02212906,\n",
       "         -0.00063302, -0.01477421],\n",
       "        [-0.01529083,  0.00098419,  0.03754191, -0.00142682,\n",
       "          0.0077273 ,  0.03949627,  0.01937426,  0.02212906,\n",
       "         -0.00063302, -0.01477421],\n",
       "        [-0.03173348, -0.01997832,  0.03082818,  0.03772687,\n",
       "          0.036064  , -0.0256041 , -0.01293283,  0.03174689,\n",
       "          0.01594912, -0.02423873],\n",
       "        [-0.02200375, -0.00517269,  0.0478861 , -0.02120497,\n",
       "         -0.00760751,  0.00179622,  0.04582435,  0.00974212,\n",
       "         -0.01065908,  0.03506107],\n",
       "        [-0.04059882,  0.0023096 ,  0.03579012, -0.03035954,\n",
       "         -0.02896142, -0.00019712, -0.0408382 ,  0.01194391,\n",
       "         -0.02318045, -0.03004738],\n",
       "        [ 0.02285546, -0.03700101, -0.04323454,  0.03292825,\n",
       "         -0.04729457,  0.04018185,  0.02899254,  0.02718231,\n",
       "         -0.02811862,  0.02873837],\n",
       "        [-0.01312646, -0.02040092, -0.00030247,  0.04953022,\n",
       "         -0.01010915,  0.04878688,  0.02147457, -0.01019054,\n",
       "          0.03534603,  0.02650977]],\n",
       "\n",
       "       [[-0.01529083,  0.00098419,  0.03754191, -0.00142682,\n",
       "          0.0077273 ,  0.03949627,  0.01937426,  0.02212906,\n",
       "         -0.00063302, -0.01477421],\n",
       "        [-0.01529083,  0.00098419,  0.03754191, -0.00142682,\n",
       "          0.0077273 ,  0.03949627,  0.01937426,  0.02212906,\n",
       "         -0.00063302, -0.01477421],\n",
       "        [-0.01529083,  0.00098419,  0.03754191, -0.00142682,\n",
       "          0.0077273 ,  0.03949627,  0.01937426,  0.02212906,\n",
       "         -0.00063302, -0.01477421],\n",
       "        [ 0.02106491,  0.0332832 , -0.02885935, -0.01063116,\n",
       "         -0.03792679, -0.00410056,  0.03262698, -0.00748693,\n",
       "          0.00179191, -0.01200352],\n",
       "        [ 0.049081  , -0.02026292,  0.04064104, -0.03320284,\n",
       "          0.01870752,  0.03665607,  0.00040274,  0.02844061,\n",
       "          0.01990711, -0.04514698],\n",
       "        [ 0.01025838, -0.00781952,  0.04402938,  0.00815045,\n",
       "          0.03134559, -0.01919346, -0.01672933,  0.00547666,\n",
       "         -0.00625639,  0.00427842],\n",
       "        [-0.01837982, -0.03122826,  0.03286156,  0.00777595,\n",
       "          0.01259252, -0.03374817, -0.00393452, -0.0413987 ,\n",
       "         -0.00953482,  0.04030372],\n",
       "        [ 0.02626402, -0.01287972, -0.04724811, -0.01927223,\n",
       "         -0.00305091, -0.00287662,  0.02438757,  0.00517303,\n",
       "          0.01019602,  0.03587348]],\n",
       "\n",
       "       [[-0.01529083,  0.00098419,  0.03754191, -0.00142682,\n",
       "          0.0077273 ,  0.03949627,  0.01937426,  0.02212906,\n",
       "         -0.00063302, -0.01477421],\n",
       "        [-0.01529083,  0.00098419,  0.03754191, -0.00142682,\n",
       "          0.0077273 ,  0.03949627,  0.01937426,  0.02212906,\n",
       "         -0.00063302, -0.01477421],\n",
       "        [-0.01529083,  0.00098419,  0.03754191, -0.00142682,\n",
       "          0.0077273 ,  0.03949627,  0.01937426,  0.02212906,\n",
       "         -0.00063302, -0.01477421],\n",
       "        [-0.01529083,  0.00098419,  0.03754191, -0.00142682,\n",
       "          0.0077273 ,  0.03949627,  0.01937426,  0.02212906,\n",
       "         -0.00063302, -0.01477421],\n",
       "        [ 0.03627202, -0.03023968, -0.04600052,  0.00055084,\n",
       "         -0.00269393,  0.04271556, -0.01170527,  0.01026379,\n",
       "         -0.01284266, -0.01448395],\n",
       "        [ 0.01723418,  0.00545503, -0.03563491,  0.00095656,\n",
       "         -0.04209349,  0.0067807 , -0.03583779,  0.00087974,\n",
       "          0.04909259,  0.01881236],\n",
       "        [ 0.02069435, -0.00328528, -0.03777145, -0.02344848,\n",
       "         -0.00079987,  0.00014323, -0.03290658, -0.01449098,\n",
       "         -0.01015288,  0.03114351],\n",
       "        [ 0.02285546, -0.03700101, -0.04323454,  0.03292825,\n",
       "         -0.04729457,  0.04018185,  0.02899254,  0.02718231,\n",
       "         -0.02811862,  0.02873837]]], dtype=float32)"
      ]
     },
     "execution_count": 24,
     "metadata": {},
     "output_type": "execute_result"
    }
   ],
   "source": [
    "model.predict(embedded_docs)"
   ]
  },
  {
   "cell_type": "code",
   "execution_count": null,
   "metadata": {
    "id": "IBUxBCJ510nw"
   },
   "outputs": [],
   "source": []
  }
 ],
 "metadata": {
  "colab": {
   "provenance": []
  },
  "kernelspec": {
   "display_name": "Python 3 (ipykernel)",
   "language": "python",
   "name": "python3"
  },
  "language_info": {
   "codemirror_mode": {
    "name": "ipython",
    "version": 3
   },
   "file_extension": ".py",
   "mimetype": "text/x-python",
   "name": "python",
   "nbconvert_exporter": "python",
   "pygments_lexer": "ipython3",
   "version": "3.9.12"
  },
  "latex_envs": {
   "LaTeX_envs_menu_present": true,
   "autoclose": false,
   "autocomplete": true,
   "bibliofile": "biblio.bib",
   "cite_by": "apalike",
   "current_citInitial": 1,
   "eqLabelWithNumbers": true,
   "eqNumInitial": 1,
   "hotkeys": {
    "equation": "Ctrl-E",
    "itemize": "Ctrl-I"
   },
   "labels_anchors": false,
   "latex_user_defs": false,
   "report_style_numbering": false,
   "user_envs_cfg": false
  },
  "varInspector": {
   "cols": {
    "lenName": 16,
    "lenType": 16,
    "lenVar": 40
   },
   "kernels_config": {
    "python": {
     "delete_cmd_postfix": "",
     "delete_cmd_prefix": "del ",
     "library": "var_list.py",
     "varRefreshCmd": "print(var_dic_list())"
    },
    "r": {
     "delete_cmd_postfix": ") ",
     "delete_cmd_prefix": "rm(",
     "library": "var_list.r",
     "varRefreshCmd": "cat(var_dic_list()) "
    }
   },
   "types_to_exclude": [
    "module",
    "function",
    "builtin_function_or_method",
    "instance",
    "_Feature"
   ],
   "window_display": false
  }
 },
 "nbformat": 4,
 "nbformat_minor": 1
}
