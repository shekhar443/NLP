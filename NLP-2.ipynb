{
 "cells": [
  {
   "cell_type": "code",
   "execution_count": 33,
   "id": "9afada27",
   "metadata": {},
   "outputs": [],
   "source": [
    "from tensorflow.keras.preprocessing.text import one_hot"
   ]
  },
  {
   "cell_type": "code",
   "execution_count": 34,
   "id": "e1bf1cdc",
   "metadata": {},
   "outputs": [],
   "source": [
    "sent=['my nane is shekhar',\n",
    "     'my son name kowshik',\n",
    "     'srinaish is my father',\n",
    "     'lakshmamma was mother',\n",
    "     'wife kalyani']"
   ]
  },
  {
   "cell_type": "code",
   "execution_count": 35,
   "id": "dab82f8f",
   "metadata": {},
   "outputs": [
    {
     "data": {
      "text/plain": [
       "['my nane is shekhar',\n",
       " 'my son name kowshik',\n",
       " 'srinaish is my father',\n",
       " 'lakshmamma was mother',\n",
       " 'wife kalyani']"
      ]
     },
     "execution_count": 35,
     "metadata": {},
     "output_type": "execute_result"
    }
   ],
   "source": [
    "sent"
   ]
  },
  {
   "cell_type": "code",
   "execution_count": 36,
   "id": "5ee427e8",
   "metadata": {},
   "outputs": [],
   "source": [
    "voc_size=1000"
   ]
  },
  {
   "cell_type": "code",
   "execution_count": 37,
   "id": "0ee7de7f",
   "metadata": {},
   "outputs": [
    {
     "data": {
      "text/plain": [
       "[[142, 593, 641, 4],\n",
       " [142, 286, 480, 870],\n",
       " [980, 641, 142, 532],\n",
       " [305, 582, 828],\n",
       " [44, 814]]"
      ]
     },
     "execution_count": 37,
     "metadata": {},
     "output_type": "execute_result"
    }
   ],
   "source": [
    "onehot_repr=[one_hot(words,voc_size) for words in sent]\n",
    "onehot_repr"
   ]
  },
  {
   "cell_type": "code",
   "execution_count": 38,
   "id": "b614d2cd",
   "metadata": {},
   "outputs": [],
   "source": [
    "from tensorflow.keras.layers import Embedding\n",
    "from tensorflow.keras.preprocessing.sequence import pad_sequences\n",
    "from tensorflow.keras.models import Sequential"
   ]
  },
  {
   "cell_type": "code",
   "execution_count": 39,
   "id": "2881e9ca",
   "metadata": {},
   "outputs": [],
   "source": [
    "import pandas as pd \n",
    "import numpy as np"
   ]
  },
  {
   "cell_type": "code",
   "execution_count": 40,
   "id": "2833a9c6",
   "metadata": {},
   "outputs": [],
   "source": [
    "sent_length=5"
   ]
  },
  {
   "cell_type": "code",
   "execution_count": 41,
   "id": "9bc3c71f",
   "metadata": {},
   "outputs": [],
   "source": [
    "embedding_docs=pad_sequences(onehot_repr,padding='pre', maxlen=sent_length)"
   ]
  },
  {
   "cell_type": "code",
   "execution_count": 42,
   "id": "e241557e",
   "metadata": {},
   "outputs": [
    {
     "data": {
      "text/plain": [
       "array([[  0, 142, 593, 641,   4],\n",
       "       [  0, 142, 286, 480, 870],\n",
       "       [  0, 980, 641, 142, 532],\n",
       "       [  0,   0, 305, 582, 828],\n",
       "       [  0,   0,   0,  44, 814]])"
      ]
     },
     "execution_count": 42,
     "metadata": {},
     "output_type": "execute_result"
    }
   ],
   "source": [
    "embedding_docs"
   ]
  },
  {
   "cell_type": "code",
   "execution_count": 43,
   "id": "3e878670",
   "metadata": {},
   "outputs": [],
   "source": [
    "dim=15"
   ]
  },
  {
   "cell_type": "code",
   "execution_count": 44,
   "id": "0b2a75cd",
   "metadata": {},
   "outputs": [],
   "source": [
    "model=Sequential()"
   ]
  },
  {
   "cell_type": "code",
   "execution_count": 45,
   "id": "f3c5b4a7",
   "metadata": {},
   "outputs": [],
   "source": [
    "model.add(Embedding(voc_size,15,input_length=sent_length))"
   ]
  },
  {
   "cell_type": "code",
   "execution_count": 46,
   "id": "77c2522d",
   "metadata": {},
   "outputs": [],
   "source": [
    "model.compile('adam','mse')"
   ]
  },
  {
   "cell_type": "code",
   "execution_count": 47,
   "id": "0a861245",
   "metadata": {},
   "outputs": [
    {
     "name": "stdout",
     "output_type": "stream",
     "text": [
      "Model: \"sequential_1\"\n",
      "_________________________________________________________________\n",
      " Layer (type)                Output Shape              Param #   \n",
      "=================================================================\n",
      " embedding_3 (Embedding)     (None, 5, 15)             15000     \n",
      "                                                                 \n",
      "=================================================================\n",
      "Total params: 15,000\n",
      "Trainable params: 15,000\n",
      "Non-trainable params: 0\n",
      "_________________________________________________________________\n"
     ]
    }
   ],
   "source": [
    "model.summary()"
   ]
  },
  {
   "cell_type": "code",
   "execution_count": 48,
   "id": "2bda8b89",
   "metadata": {},
   "outputs": [
    {
     "name": "stdout",
     "output_type": "stream",
     "text": [
      "WARNING:tensorflow:Model was constructed with shape (None, 5) for input KerasTensor(type_spec=TensorSpec(shape=(None, 5), dtype=tf.float32, name='embedding_3_input'), name='embedding_3_input', description=\"created by layer 'embedding_3_input'\"), but it was called on an input with incompatible shape (None,).\n",
      "1/1 [==============================] - 0s 100ms/step\n"
     ]
    },
    {
     "data": {
      "text/plain": [
       "array([[ 0.02220012, -0.04057157, -0.04677555, -0.00151549,  0.04254477,\n",
       "         0.0258294 , -0.00907832,  0.04453269, -0.0023882 ,  0.04927817,\n",
       "        -0.02299417,  0.03364244,  0.02245232, -0.01784928,  0.03574494],\n",
       "       [ 0.00889828,  0.0351685 , -0.01784547, -0.01689932,  0.01878542,\n",
       "        -0.00021603,  0.00131015, -0.04559041, -0.02342006,  0.02514059,\n",
       "         0.03806701, -0.02521756, -0.04217364, -0.01538166,  0.02242888],\n",
       "       [ 0.00354961,  0.03398499,  0.00059044, -0.04949475,  0.01843389,\n",
       "         0.00621704, -0.0002827 ,  0.02805943, -0.01662564, -0.01967745,\n",
       "        -0.02764289, -0.03300156, -0.00506917, -0.00186404, -0.02178625],\n",
       "       [-0.03655579,  0.03410503,  0.04576672,  0.04986704,  0.04040715,\n",
       "        -0.00989204, -0.04814368, -0.00639779, -0.04627258,  0.01091242,\n",
       "        -0.01287512,  0.03886736, -0.0084551 , -0.03449748, -0.02463981],\n",
       "       [-0.0458869 ,  0.01619217,  0.02057404, -0.00097145, -0.01821271,\n",
       "         0.03444915, -0.02102736,  0.02108829,  0.03096494,  0.01562804,\n",
       "        -0.03695439,  0.00844659,  0.0280163 ,  0.00748571,  0.04846564]],\n",
       "      dtype=float32)"
      ]
     },
     "execution_count": 48,
     "metadata": {},
     "output_type": "execute_result"
    }
   ],
   "source": [
    "model.predict(embedding_docs[0])"
   ]
  },
  {
   "cell_type": "code",
   "execution_count": 49,
   "id": "f80c0eeb",
   "metadata": {},
   "outputs": [
    {
     "name": "stdout",
     "output_type": "stream",
     "text": [
      "WARNING:tensorflow:5 out of the last 5 calls to <function Model.make_predict_function.<locals>.predict_function at 0x000001DB0D5F4B80> triggered tf.function retracing. Tracing is expensive and the excessive number of tracings could be due to (1) creating @tf.function repeatedly in a loop, (2) passing tensors with different shapes, (3) passing Python objects instead of tensors. For (1), please define your @tf.function outside of the loop. For (2), @tf.function has reduce_retracing=True option that can avoid unnecessary retracing. For (3), please refer to https://www.tensorflow.org/guide/function#controlling_retracing and https://www.tensorflow.org/api_docs/python/tf/function for  more details.\n",
      "1/1 [==============================] - 0s 121ms/step\n"
     ]
    },
    {
     "data": {
      "text/plain": [
       "array([[[ 0.02220012, -0.04057157, -0.04677555, -0.00151549,\n",
       "          0.04254477,  0.0258294 , -0.00907832,  0.04453269,\n",
       "         -0.0023882 ,  0.04927817, -0.02299417,  0.03364244,\n",
       "          0.02245232, -0.01784928,  0.03574494],\n",
       "        [ 0.00889828,  0.0351685 , -0.01784547, -0.01689932,\n",
       "          0.01878542, -0.00021603,  0.00131015, -0.04559041,\n",
       "         -0.02342006,  0.02514059,  0.03806701, -0.02521756,\n",
       "         -0.04217364, -0.01538166,  0.02242888],\n",
       "        [ 0.00354961,  0.03398499,  0.00059044, -0.04949475,\n",
       "          0.01843389,  0.00621704, -0.0002827 ,  0.02805943,\n",
       "         -0.01662564, -0.01967745, -0.02764289, -0.03300156,\n",
       "         -0.00506917, -0.00186404, -0.02178625],\n",
       "        [-0.03655579,  0.03410503,  0.04576672,  0.04986704,\n",
       "          0.04040715, -0.00989204, -0.04814368, -0.00639779,\n",
       "         -0.04627258,  0.01091242, -0.01287512,  0.03886736,\n",
       "         -0.0084551 , -0.03449748, -0.02463981],\n",
       "        [-0.0458869 ,  0.01619217,  0.02057404, -0.00097145,\n",
       "         -0.01821271,  0.03444915, -0.02102736,  0.02108829,\n",
       "          0.03096494,  0.01562804, -0.03695439,  0.00844659,\n",
       "          0.0280163 ,  0.00748571,  0.04846564]],\n",
       "\n",
       "       [[ 0.02220012, -0.04057157, -0.04677555, -0.00151549,\n",
       "          0.04254477,  0.0258294 , -0.00907832,  0.04453269,\n",
       "         -0.0023882 ,  0.04927817, -0.02299417,  0.03364244,\n",
       "          0.02245232, -0.01784928,  0.03574494],\n",
       "        [ 0.00889828,  0.0351685 , -0.01784547, -0.01689932,\n",
       "          0.01878542, -0.00021603,  0.00131015, -0.04559041,\n",
       "         -0.02342006,  0.02514059,  0.03806701, -0.02521756,\n",
       "         -0.04217364, -0.01538166,  0.02242888],\n",
       "        [ 0.007058  , -0.02714509,  0.03250078,  0.04219219,\n",
       "         -0.01116738,  0.00135697, -0.01299783, -0.03381125,\n",
       "          0.01179581, -0.04258267, -0.00789914,  0.037659  ,\n",
       "          0.03891936, -0.02294816, -0.04289165],\n",
       "        [ 0.01907722, -0.01610262, -0.02826288,  0.00374621,\n",
       "         -0.03607234,  0.04344148, -0.00492869,  0.00255197,\n",
       "         -0.04755237, -0.00907196, -0.01481991,  0.03861871,\n",
       "          0.00029372, -0.02203873,  0.01867096],\n",
       "        [-0.01513933, -0.0323069 , -0.04815337, -0.00185142,\n",
       "         -0.03456762, -0.0279377 ,  0.04562861, -0.01534625,\n",
       "          0.01148548,  0.03645035, -0.00700339, -0.01232104,\n",
       "         -0.00550671, -0.01089501, -0.0031463 ]],\n",
       "\n",
       "       [[ 0.02220012, -0.04057157, -0.04677555, -0.00151549,\n",
       "          0.04254477,  0.0258294 , -0.00907832,  0.04453269,\n",
       "         -0.0023882 ,  0.04927817, -0.02299417,  0.03364244,\n",
       "          0.02245232, -0.01784928,  0.03574494],\n",
       "        [-0.03936082,  0.02940545, -0.02663833,  0.01330242,\n",
       "          0.04336628,  0.03980955,  0.01264228, -0.03412608,\n",
       "         -0.03094242, -0.02357498,  0.00715622,  0.0403895 ,\n",
       "          0.02857114, -0.0363499 , -0.00111628],\n",
       "        [-0.03655579,  0.03410503,  0.04576672,  0.04986704,\n",
       "          0.04040715, -0.00989204, -0.04814368, -0.00639779,\n",
       "         -0.04627258,  0.01091242, -0.01287512,  0.03886736,\n",
       "         -0.0084551 , -0.03449748, -0.02463981],\n",
       "        [ 0.00889828,  0.0351685 , -0.01784547, -0.01689932,\n",
       "          0.01878542, -0.00021603,  0.00131015, -0.04559041,\n",
       "         -0.02342006,  0.02514059,  0.03806701, -0.02521756,\n",
       "         -0.04217364, -0.01538166,  0.02242888],\n",
       "        [-0.00663549, -0.00979879,  0.01914581,  0.02731805,\n",
       "         -0.04433817,  0.04085815,  0.04770887, -0.01415021,\n",
       "          0.02864659,  0.01726619, -0.00920192, -0.04796368,\n",
       "         -0.01109334, -0.04439565,  0.04340942]],\n",
       "\n",
       "       [[ 0.02220012, -0.04057157, -0.04677555, -0.00151549,\n",
       "          0.04254477,  0.0258294 , -0.00907832,  0.04453269,\n",
       "         -0.0023882 ,  0.04927817, -0.02299417,  0.03364244,\n",
       "          0.02245232, -0.01784928,  0.03574494],\n",
       "        [ 0.02220012, -0.04057157, -0.04677555, -0.00151549,\n",
       "          0.04254477,  0.0258294 , -0.00907832,  0.04453269,\n",
       "         -0.0023882 ,  0.04927817, -0.02299417,  0.03364244,\n",
       "          0.02245232, -0.01784928,  0.03574494],\n",
       "        [ 0.04450371,  0.00219531, -0.0018886 ,  0.0090621 ,\n",
       "         -0.01780919, -0.00280794, -0.03109158, -0.03977678,\n",
       "          0.02649565, -0.04420768,  0.03338404, -0.01374863,\n",
       "         -0.00900588,  0.01272012, -0.00690592],\n",
       "        [-0.02910529,  0.0002789 ,  0.0453716 ,  0.03182945,\n",
       "         -0.04036312, -0.04273232,  0.00804192,  0.02957395,\n",
       "         -0.00174017,  0.00120281, -0.02322497,  0.03237018,\n",
       "          0.04026693, -0.01500983,  0.04321213],\n",
       "        [ 0.01846461,  0.02593194,  0.0478873 , -0.02327824,\n",
       "         -0.01391677,  0.04666394,  0.0121022 ,  0.00131674,\n",
       "          0.04832441, -0.04007715, -0.02017166,  0.03671295,\n",
       "         -0.00329491,  0.00279703,  0.04963638]],\n",
       "\n",
       "       [[ 0.02220012, -0.04057157, -0.04677555, -0.00151549,\n",
       "          0.04254477,  0.0258294 , -0.00907832,  0.04453269,\n",
       "         -0.0023882 ,  0.04927817, -0.02299417,  0.03364244,\n",
       "          0.02245232, -0.01784928,  0.03574494],\n",
       "        [ 0.02220012, -0.04057157, -0.04677555, -0.00151549,\n",
       "          0.04254477,  0.0258294 , -0.00907832,  0.04453269,\n",
       "         -0.0023882 ,  0.04927817, -0.02299417,  0.03364244,\n",
       "          0.02245232, -0.01784928,  0.03574494],\n",
       "        [ 0.02220012, -0.04057157, -0.04677555, -0.00151549,\n",
       "          0.04254477,  0.0258294 , -0.00907832,  0.04453269,\n",
       "         -0.0023882 ,  0.04927817, -0.02299417,  0.03364244,\n",
       "          0.02245232, -0.01784928,  0.03574494],\n",
       "        [ 0.03371939, -0.0364278 , -0.00094616, -0.00337381,\n",
       "         -0.04328324, -0.03901057,  0.04125125,  0.03056921,\n",
       "         -0.0327116 ,  0.03918462,  0.01299069, -0.03424932,\n",
       "          0.03924855, -0.03267572,  0.04221031],\n",
       "        [-0.03765593,  0.02727531, -0.00742909,  0.01573693,\n",
       "         -0.03485012,  0.00792731,  0.03945272, -0.02950714,\n",
       "         -0.01955283, -0.02510225, -0.01541413, -0.04841787,\n",
       "          0.02127632,  0.029912  , -0.00351544]]], dtype=float32)"
      ]
     },
     "execution_count": 49,
     "metadata": {},
     "output_type": "execute_result"
    }
   ],
   "source": [
    "model.predict(embedding_docs)"
   ]
  },
  {
   "cell_type": "code",
   "execution_count": null,
   "id": "a34aa505",
   "metadata": {},
   "outputs": [],
   "source": []
  }
 ],
 "metadata": {
  "kernelspec": {
   "display_name": "Python 3 (ipykernel)",
   "language": "python",
   "name": "python3"
  },
  "language_info": {
   "codemirror_mode": {
    "name": "ipython",
    "version": 3
   },
   "file_extension": ".py",
   "mimetype": "text/x-python",
   "name": "python",
   "nbconvert_exporter": "python",
   "pygments_lexer": "ipython3",
   "version": "3.9.12"
  },
  "latex_envs": {
   "LaTeX_envs_menu_present": true,
   "autoclose": false,
   "autocomplete": true,
   "bibliofile": "biblio.bib",
   "cite_by": "apalike",
   "current_citInitial": 1,
   "eqLabelWithNumbers": true,
   "eqNumInitial": 1,
   "hotkeys": {
    "equation": "Ctrl-E",
    "itemize": "Ctrl-I"
   },
   "labels_anchors": false,
   "latex_user_defs": false,
   "report_style_numbering": false,
   "user_envs_cfg": false
  },
  "varInspector": {
   "cols": {
    "lenName": 16,
    "lenType": 16,
    "lenVar": 40
   },
   "kernels_config": {
    "python": {
     "delete_cmd_postfix": "",
     "delete_cmd_prefix": "del ",
     "library": "var_list.py",
     "varRefreshCmd": "print(var_dic_list())"
    },
    "r": {
     "delete_cmd_postfix": ") ",
     "delete_cmd_prefix": "rm(",
     "library": "var_list.r",
     "varRefreshCmd": "cat(var_dic_list()) "
    }
   },
   "types_to_exclude": [
    "module",
    "function",
    "builtin_function_or_method",
    "instance",
    "_Feature"
   ],
   "window_display": false
  }
 },
 "nbformat": 4,
 "nbformat_minor": 5
}
