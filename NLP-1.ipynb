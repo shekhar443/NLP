{
 "cells": [
  {
   "cell_type": "code",
   "execution_count": 142,
   "id": "8b56f70d",
   "metadata": {},
   "outputs": [],
   "source": [
    "import nltk\n",
    "from nltk.stem import PorterStemmer\n",
    "from nltk.corpus import stopwords\n",
    "from nltk.stem import WordNetLemmatizer"
   ]
  },
  {
   "cell_type": "code",
   "execution_count": 210,
   "id": "5344e61e",
   "metadata": {},
   "outputs": [],
   "source": [
    "paragraph=\"Modi was born and raised in Vadnagar in northeastern Gujarat, where he completed his secondary education. He was introduced to the RSS at age eight. He has discussed having to work as a child in his father's tea stall in the Vadnagar railway station, which has not been reliably corroborated. At age 18, Modi was married to Jashodaben Chimanlal Modi, whom he abandoned soon after. He first publicly acknowledged her as his wife more than four decades later when required to do so by Indian law, but has made no contact with her since. Modi has asserted he had travelled in northern India for two years after leaving his parental home, visiting a number of religious centres, but few details of his travels have emerged. Upon his return to Gujarat in 1971, he became a full-time worker for the RSS. After the state of emergency was declared by prime minister Indira Gandhi in 1975, Modi went into hiding. The RSS assigned him to the BJP in 1985 and he held several positions within the party hierarchy until 2001, rising to the rank of general secretary.[c] Modi was appointed Chief Minister of Gujarat in 2001 due to Keshubhai Patel's failing health and poor public image following the earthquake in Bhuj. Modi was elected to the legislative assembly soon after. His administration has been considered complicit in the 2002 Gujarat riots in which 1044 people were killed, three-quarters of whom were Muslim,[d] or otherwise criticised for its management of the crisis. A Special Investigation Team appointed by the Supreme Court of India found no evidence to initiate prosecution proceedings against Modi personally.[e] While his policies as chief minister—credited with encouraging economic growth—have received praise, his administration was criticised for failing to significantly improve health, poverty and education indices in the state.[f]Modi led the BJP in the 2014 general election which gave the party a majority in the lower house of Indian parliament, the Lok Sabha, the first time for any single party since 1984. Modi's administration has tried to raise foreign direct investment in the Indian economy and reduced spending on healthcare, education, and social welfare programmes. Modi centralised power by abolishing the Planning Commission. He began a high-profile sanitation campaign, controversially initiated a demonetisation of high-denomination banknotes and a transformation of the taxation regime, and weakened or abolished environmental and labour laws. He oversaw the country's response to the COVID-19 pandemic. Modi has received consistently high approval ratings during his tenure.[12][13][14]\""
   ]
  },
  {
   "cell_type": "code",
   "execution_count": 211,
   "id": "0cbd53f1",
   "metadata": {},
   "outputs": [
    {
     "data": {
      "text/plain": [
       "\"Modi was born and raised in Vadnagar in northeastern Gujarat, where he completed his secondary education. He was introduced to the RSS at age eight. He has discussed having to work as a child in his father's tea stall in the Vadnagar railway station, which has not been reliably corroborated. At age 18, Modi was married to Jashodaben Chimanlal Modi, whom he abandoned soon after. He first publicly acknowledged her as his wife more than four decades later when required to do so by Indian law, but has made no contact with her since. Modi has asserted he had travelled in northern India for two years after leaving his parental home, visiting a number of religious centres, but few details of his travels have emerged. Upon his return to Gujarat in 1971, he became a full-time worker for the RSS. After the state of emergency was declared by prime minister Indira Gandhi in 1975, Modi went into hiding. The RSS assigned him to the BJP in 1985 and he held several positions within the party hierarchy until 2001, rising to the rank of general secretary.[c] Modi was appointed Chief Minister of Gujarat in 2001 due to Keshubhai Patel's failing health and poor public image following the earthquake in Bhuj. Modi was elected to the legislative assembly soon after. His administration has been considered complicit in the 2002 Gujarat riots in which 1044 people were killed, three-quarters of whom were Muslim,[d] or otherwise criticised for its management of the crisis. A Special Investigation Team appointed by the Supreme Court of India found no evidence to initiate prosecution proceedings against Modi personally.[e] While his policies as chief minister—credited with encouraging economic growth—have received praise, his administration was criticised for failing to significantly improve health, poverty and education indices in the state.[f]Modi led the BJP in the 2014 general election which gave the party a majority in the lower house of Indian parliament, the Lok Sabha, the first time for any single party since 1984. Modi's administration has tried to raise foreign direct investment in the Indian economy and reduced spending on healthcare, education, and social welfare programmes. Modi centralised power by abolishing the Planning Commission. He began a high-profile sanitation campaign, controversially initiated a demonetisation of high-denomination banknotes and a transformation of the taxation regime, and weakened or abolished environmental and labour laws. He oversaw the country's response to the COVID-19 pandemic. Modi has received consistently high approval ratings during his tenure.[12][13][14]\""
      ]
     },
     "execution_count": 211,
     "metadata": {},
     "output_type": "execute_result"
    }
   ],
   "source": [
    "paragraph"
   ]
  },
  {
   "cell_type": "code",
   "execution_count": 212,
   "id": "b9661ad1",
   "metadata": {},
   "outputs": [
    {
     "name": "stderr",
     "output_type": "stream",
     "text": [
      "[nltk_data] Downloading package punkt to\n",
      "[nltk_data]     C:\\Users\\USER\\AppData\\Roaming\\nltk_data...\n",
      "[nltk_data]   Package punkt is already up-to-date!\n"
     ]
    },
    {
     "data": {
      "text/plain": [
       "True"
      ]
     },
     "execution_count": 212,
     "metadata": {},
     "output_type": "execute_result"
    }
   ],
   "source": [
    "nltk.download('punkt')"
   ]
  },
  {
   "cell_type": "code",
   "execution_count": 213,
   "id": "7788f7a9",
   "metadata": {},
   "outputs": [],
   "source": [
    "sentences=nltk.sent_tokenize(paragraph)"
   ]
  },
  {
   "cell_type": "code",
   "execution_count": 214,
   "id": "689ab992",
   "metadata": {},
   "outputs": [
    {
     "name": "stdout",
     "output_type": "stream",
     "text": [
      "['Modi was born and raised in Vadnagar in northeastern Gujarat, where he completed his secondary education.', 'He was introduced to the RSS at age eight.', \"He has discussed having to work as a child in his father's tea stall in the Vadnagar railway station, which has not been reliably corroborated.\", 'At age 18, Modi was married to Jashodaben Chimanlal Modi, whom he abandoned soon after.', 'He first publicly acknowledged her as his wife more than four decades later when required to do so by Indian law, but has made no contact with her since.', 'Modi has asserted he had travelled in northern India for two years after leaving his parental home, visiting a number of religious centres, but few details of his travels have emerged.', 'Upon his return to Gujarat in 1971, he became a full-time worker for the RSS.', 'After the state of emergency was declared by prime minister Indira Gandhi in 1975, Modi went into hiding.', 'The RSS assigned him to the BJP in 1985 and he held several positions within the party hierarchy until 2001, rising to the rank of general secretary.', \"[c] Modi was appointed Chief Minister of Gujarat in 2001 due to Keshubhai Patel's failing health and poor public image following the earthquake in Bhuj.\", 'Modi was elected to the legislative assembly soon after.', 'His administration has been considered complicit in the 2002 Gujarat riots in which 1044 people were killed, three-quarters of whom were Muslim,[d] or otherwise criticised for its management of the crisis.', 'A Special Investigation Team appointed by the Supreme Court of India found no evidence to initiate prosecution proceedings against Modi personally.', '[e] While his policies as chief minister—credited with encouraging economic growth—have received praise, his administration was criticised for failing to significantly improve health, poverty and education indices in the state.', '[f]Modi led the BJP in the 2014 general election which gave the party a majority in the lower house of Indian parliament, the Lok Sabha, the first time for any single party since 1984.', \"Modi's administration has tried to raise foreign direct investment in the Indian economy and reduced spending on healthcare, education, and social welfare programmes.\", 'Modi centralised power by abolishing the Planning Commission.', 'He began a high-profile sanitation campaign, controversially initiated a demonetisation of high-denomination banknotes and a transformation of the taxation regime, and weakened or abolished environmental and labour laws.', \"He oversaw the country's response to the COVID-19 pandemic.\", 'Modi has received consistently high approval ratings during his tenure.', '[12][13][14]']\n"
     ]
    }
   ],
   "source": [
    "print(sentences)"
   ]
  },
  {
   "cell_type": "code",
   "execution_count": 215,
   "id": "b2578147",
   "metadata": {},
   "outputs": [
    {
     "data": {
      "text/plain": [
       "list"
      ]
     },
     "execution_count": 215,
     "metadata": {},
     "output_type": "execute_result"
    }
   ],
   "source": [
    "type(sentences)"
   ]
  },
  {
   "cell_type": "code",
   "execution_count": 216,
   "id": "42c3b51b",
   "metadata": {},
   "outputs": [],
   "source": [
    "stemmer=PorterStemmer()"
   ]
  },
  {
   "cell_type": "code",
   "execution_count": 217,
   "id": "d2f098ac",
   "metadata": {},
   "outputs": [
    {
     "data": {
      "text/plain": [
       "'play'"
      ]
     },
     "execution_count": 217,
     "metadata": {},
     "output_type": "execute_result"
    }
   ],
   "source": [
    "stemmer.stem('playing')"
   ]
  },
  {
   "cell_type": "code",
   "execution_count": 218,
   "id": "4964131b",
   "metadata": {},
   "outputs": [
    {
     "data": {
      "text/plain": [
       "'histor'"
      ]
     },
     "execution_count": 218,
     "metadata": {},
     "output_type": "execute_result"
    }
   ],
   "source": [
    "stemmer.stem('historical')"
   ]
  },
  {
   "cell_type": "code",
   "execution_count": 219,
   "id": "581e6d7f",
   "metadata": {},
   "outputs": [
    {
     "data": {
      "text/plain": [
       "'eat'"
      ]
     },
     "execution_count": 219,
     "metadata": {},
     "output_type": "execute_result"
    }
   ],
   "source": [
    "stemmer.stem('eating')"
   ]
  },
  {
   "cell_type": "code",
   "execution_count": 220,
   "id": "1d259010",
   "metadata": {},
   "outputs": [],
   "source": [
    "lemmatizer=WordNetLemmatizer()"
   ]
  },
  {
   "cell_type": "code",
   "execution_count": 221,
   "id": "cb163a07",
   "metadata": {},
   "outputs": [
    {
     "data": {
      "text/plain": [
       "'drinking'"
      ]
     },
     "execution_count": 221,
     "metadata": {},
     "output_type": "execute_result"
    }
   ],
   "source": [
    "lemmatizer.lemmatize('drinking')"
   ]
  },
  {
   "cell_type": "code",
   "execution_count": 222,
   "id": "61c9126c",
   "metadata": {},
   "outputs": [
    {
     "name": "stderr",
     "output_type": "stream",
     "text": [
      "[nltk_data] Downloading package wordnet to\n",
      "[nltk_data]     C:\\Users\\USER\\AppData\\Roaming\\nltk_data...\n",
      "[nltk_data]   Package wordnet is already up-to-date!\n"
     ]
    },
    {
     "data": {
      "text/plain": [
       "True"
      ]
     },
     "execution_count": 222,
     "metadata": {},
     "output_type": "execute_result"
    }
   ],
   "source": [
    "nltk.download('wordnet')"
   ]
  },
  {
   "cell_type": "code",
   "execution_count": 223,
   "id": "f11a6462",
   "metadata": {},
   "outputs": [
    {
     "data": {
      "text/plain": [
       "'drinking'"
      ]
     },
     "execution_count": 223,
     "metadata": {},
     "output_type": "execute_result"
    }
   ],
   "source": [
    "lemmatizer.lemmatize('drinking')"
   ]
  },
  {
   "cell_type": "code",
   "execution_count": 224,
   "id": "ce8de913",
   "metadata": {},
   "outputs": [
    {
     "name": "stderr",
     "output_type": "stream",
     "text": [
      "[nltk_data] Downloading package omw-1.4 to\n",
      "[nltk_data]     C:\\Users\\USER\\AppData\\Roaming\\nltk_data...\n",
      "[nltk_data]   Package omw-1.4 is already up-to-date!\n"
     ]
    },
    {
     "data": {
      "text/plain": [
       "True"
      ]
     },
     "execution_count": 224,
     "metadata": {},
     "output_type": "execute_result"
    }
   ],
   "source": [
    "nltk.download('omw-1.4')"
   ]
  },
  {
   "cell_type": "code",
   "execution_count": 225,
   "id": "ad359ef0",
   "metadata": {},
   "outputs": [
    {
     "data": {
      "text/plain": [
       "'drinking'"
      ]
     },
     "execution_count": 225,
     "metadata": {},
     "output_type": "execute_result"
    }
   ],
   "source": [
    "lemmatizer.lemmatize('drinking')"
   ]
  },
  {
   "cell_type": "code",
   "execution_count": 226,
   "id": "47c558a3",
   "metadata": {},
   "outputs": [
    {
     "data": {
      "text/plain": [
       "'go'"
      ]
     },
     "execution_count": 226,
     "metadata": {},
     "output_type": "execute_result"
    }
   ],
   "source": [
    "lemmatizer.lemmatize('goes')"
   ]
  },
  {
   "cell_type": "code",
   "execution_count": 227,
   "id": "32fdfafb",
   "metadata": {},
   "outputs": [
    {
     "data": {
      "text/plain": [
       "'doe'"
      ]
     },
     "execution_count": 227,
     "metadata": {},
     "output_type": "execute_result"
    }
   ],
   "source": [
    "lemmatizer.lemmatize('does')"
   ]
  },
  {
   "cell_type": "code",
   "execution_count": 228,
   "id": "2b054f3b",
   "metadata": {},
   "outputs": [
    {
     "data": {
      "text/plain": [
       "21"
      ]
     },
     "execution_count": 228,
     "metadata": {},
     "output_type": "execute_result"
    }
   ],
   "source": [
    "len(sentences)"
   ]
  },
  {
   "cell_type": "code",
   "execution_count": 229,
   "id": "f992466c",
   "metadata": {},
   "outputs": [],
   "source": [
    "import re\n",
    "corpus=[]\n",
    "for i in range(len(sentences)):\n",
    "    review=re.sub('^a-zA-Z',' ',sentences[i])\n",
    "    review=review.lower()\n",
    "    review=review.split()\n",
    "    review=[lemmatizer.lemmatize(word) for word in review if not word in set(stopwords.words('english'))]\n",
    "    review=' '.join(review)\n",
    "    corpus.append(review)"
   ]
  },
  {
   "cell_type": "code",
   "execution_count": 230,
   "id": "a5d35392",
   "metadata": {},
   "outputs": [
    {
     "data": {
      "text/plain": [
       "['modi born raised vadnagar northeastern gujarat, completed secondary education.',\n",
       " 'introduced r age eight.',\n",
       " \"discussed work child father's tea stall vadnagar railway station, reliably corroborated.\",\n",
       " 'age 18, modi married jashodaben chimanlal modi, abandoned soon after.',\n",
       " 'first publicly acknowledged wife four decade later required indian law, made contact since.',\n",
       " 'modi asserted travelled northern india two year leaving parental home, visiting number religious centres, detail travel emerged.',\n",
       " 'upon return gujarat 1971, became full-time worker rss.',\n",
       " 'state emergency declared prime minister indira gandhi 1975, modi went hiding.',\n",
       " 'r assigned bjp 1985 held several position within party hierarchy 2001, rising rank general secretary.',\n",
       " \"[c] modi appointed chief minister gujarat 2001 due keshubhai patel's failing health poor public image following earthquake bhuj.\",\n",
       " 'modi elected legislative assembly soon after.',\n",
       " 'administration considered complicit 2002 gujarat riot 1044 people killed, three-quarters muslim,[d] otherwise criticised management crisis.',\n",
       " 'special investigation team appointed supreme court india found evidence initiate prosecution proceeding modi personally.',\n",
       " '[e] policy chief minister—credited encouraging economic growth—have received praise, administration criticised failing significantly improve health, poverty education index state.',\n",
       " '[f]modi led bjp 2014 general election gave party majority lower house indian parliament, lok sabha, first time single party since 1984.',\n",
       " \"modi's administration tried raise foreign direct investment indian economy reduced spending healthcare, education, social welfare programmes.\",\n",
       " 'modi centralised power abolishing planning commission.',\n",
       " 'began high-profile sanitation campaign, controversially initiated demonetisation high-denomination banknote transformation taxation regime, weakened abolished environmental labour laws.',\n",
       " \"oversaw country's response covid-19 pandemic.\",\n",
       " 'modi received consistently high approval rating tenure.',\n",
       " '[12][13][14]']"
      ]
     },
     "execution_count": 230,
     "metadata": {},
     "output_type": "execute_result"
    }
   ],
   "source": [
    "corpus"
   ]
  },
  {
   "cell_type": "code",
   "execution_count": 231,
   "id": "ca91502d",
   "metadata": {},
   "outputs": [
    {
     "data": {
      "text/plain": [
       "21"
      ]
     },
     "execution_count": 231,
     "metadata": {},
     "output_type": "execute_result"
    }
   ],
   "source": [
    "len(corpus)"
   ]
  },
  {
   "cell_type": "code",
   "execution_count": 232,
   "id": "58222f43",
   "metadata": {},
   "outputs": [
    {
     "data": {
      "text/plain": [
       "['i',\n",
       " 'me',\n",
       " 'my',\n",
       " 'myself',\n",
       " 'we',\n",
       " 'our',\n",
       " 'ours',\n",
       " 'ourselves',\n",
       " 'you',\n",
       " \"you're\",\n",
       " \"you've\",\n",
       " \"you'll\",\n",
       " \"you'd\",\n",
       " 'your',\n",
       " 'yours',\n",
       " 'yourself',\n",
       " 'yourselves',\n",
       " 'he',\n",
       " 'him',\n",
       " 'his',\n",
       " 'himself',\n",
       " 'she',\n",
       " \"she's\",\n",
       " 'her',\n",
       " 'hers',\n",
       " 'herself',\n",
       " 'it',\n",
       " \"it's\",\n",
       " 'its',\n",
       " 'itself',\n",
       " 'they',\n",
       " 'them',\n",
       " 'their',\n",
       " 'theirs',\n",
       " 'themselves',\n",
       " 'what',\n",
       " 'which',\n",
       " 'who',\n",
       " 'whom',\n",
       " 'this',\n",
       " 'that',\n",
       " \"that'll\",\n",
       " 'these',\n",
       " 'those',\n",
       " 'am',\n",
       " 'is',\n",
       " 'are',\n",
       " 'was',\n",
       " 'were',\n",
       " 'be',\n",
       " 'been',\n",
       " 'being',\n",
       " 'have',\n",
       " 'has',\n",
       " 'had',\n",
       " 'having',\n",
       " 'do',\n",
       " 'does',\n",
       " 'did',\n",
       " 'doing',\n",
       " 'a',\n",
       " 'an',\n",
       " 'the',\n",
       " 'and',\n",
       " 'but',\n",
       " 'if',\n",
       " 'or',\n",
       " 'because',\n",
       " 'as',\n",
       " 'until',\n",
       " 'while',\n",
       " 'of',\n",
       " 'at',\n",
       " 'by',\n",
       " 'for',\n",
       " 'with',\n",
       " 'about',\n",
       " 'against',\n",
       " 'between',\n",
       " 'into',\n",
       " 'through',\n",
       " 'during',\n",
       " 'before',\n",
       " 'after',\n",
       " 'above',\n",
       " 'below',\n",
       " 'to',\n",
       " 'from',\n",
       " 'up',\n",
       " 'down',\n",
       " 'in',\n",
       " 'out',\n",
       " 'on',\n",
       " 'off',\n",
       " 'over',\n",
       " 'under',\n",
       " 'again',\n",
       " 'further',\n",
       " 'then',\n",
       " 'once',\n",
       " 'here',\n",
       " 'there',\n",
       " 'when',\n",
       " 'where',\n",
       " 'why',\n",
       " 'how',\n",
       " 'all',\n",
       " 'any',\n",
       " 'both',\n",
       " 'each',\n",
       " 'few',\n",
       " 'more',\n",
       " 'most',\n",
       " 'other',\n",
       " 'some',\n",
       " 'such',\n",
       " 'no',\n",
       " 'nor',\n",
       " 'not',\n",
       " 'only',\n",
       " 'own',\n",
       " 'same',\n",
       " 'so',\n",
       " 'than',\n",
       " 'too',\n",
       " 'very',\n",
       " 's',\n",
       " 't',\n",
       " 'can',\n",
       " 'will',\n",
       " 'just',\n",
       " 'don',\n",
       " \"don't\",\n",
       " 'should',\n",
       " \"should've\",\n",
       " 'now',\n",
       " 'd',\n",
       " 'll',\n",
       " 'm',\n",
       " 'o',\n",
       " 're',\n",
       " 've',\n",
       " 'y',\n",
       " 'ain',\n",
       " 'aren',\n",
       " \"aren't\",\n",
       " 'couldn',\n",
       " \"couldn't\",\n",
       " 'didn',\n",
       " \"didn't\",\n",
       " 'doesn',\n",
       " \"doesn't\",\n",
       " 'hadn',\n",
       " \"hadn't\",\n",
       " 'hasn',\n",
       " \"hasn't\",\n",
       " 'haven',\n",
       " \"haven't\",\n",
       " 'isn',\n",
       " \"isn't\",\n",
       " 'ma',\n",
       " 'mightn',\n",
       " \"mightn't\",\n",
       " 'mustn',\n",
       " \"mustn't\",\n",
       " 'needn',\n",
       " \"needn't\",\n",
       " 'shan',\n",
       " \"shan't\",\n",
       " 'shouldn',\n",
       " \"shouldn't\",\n",
       " 'wasn',\n",
       " \"wasn't\",\n",
       " 'weren',\n",
       " \"weren't\",\n",
       " 'won',\n",
       " \"won't\",\n",
       " 'wouldn',\n",
       " \"wouldn't\"]"
      ]
     },
     "execution_count": 232,
     "metadata": {},
     "output_type": "execute_result"
    }
   ],
   "source": [
    "stopwords.words('english')"
   ]
  },
  {
   "cell_type": "code",
   "execution_count": 233,
   "id": "5d5cbf13",
   "metadata": {},
   "outputs": [
    {
     "name": "stderr",
     "output_type": "stream",
     "text": [
      "[nltk_data] Downloading package stopwords to\n",
      "[nltk_data]     C:\\Users\\USER\\AppData\\Roaming\\nltk_data...\n",
      "[nltk_data]   Package stopwords is already up-to-date!\n"
     ]
    },
    {
     "data": {
      "text/plain": [
       "True"
      ]
     },
     "execution_count": 233,
     "metadata": {},
     "output_type": "execute_result"
    }
   ],
   "source": [
    "nltk.download('stopwords')"
   ]
  },
  {
   "cell_type": "code",
   "execution_count": 234,
   "id": "72dce177",
   "metadata": {},
   "outputs": [
    {
     "data": {
      "text/plain": [
       "179"
      ]
     },
     "execution_count": 234,
     "metadata": {},
     "output_type": "execute_result"
    }
   ],
   "source": [
    "len(stopwords.words('english'))"
   ]
  },
  {
   "cell_type": "code",
   "execution_count": 235,
   "id": "ba475ee6",
   "metadata": {},
   "outputs": [
    {
     "name": "stdout",
     "output_type": "stream",
     "text": [
      "modi\n",
      "born\n",
      "raised\n",
      "vadnagar\n",
      "northeastern\n",
      "gujarat\n",
      ",\n",
      "completed\n",
      "secondary\n",
      "education\n",
      ".\n",
      "introduced\n",
      "r\n",
      "age\n",
      "eight\n",
      ".\n",
      "discussed\n",
      "work\n",
      "child\n",
      "father\n",
      "'s\n",
      "tea\n",
      "stall\n",
      "vadnagar\n",
      "railway\n",
      "station\n",
      ",\n",
      "reliably\n",
      "corroborated\n",
      ".\n",
      "age\n",
      "18\n",
      ",\n",
      "modi\n",
      "married\n",
      "jashodaben\n",
      "chimanlal\n",
      "modi\n",
      ",\n",
      "abandoned\n",
      "soon\n",
      ".\n",
      "first\n",
      "publicly\n",
      "acknowledged\n",
      "wife\n",
      "four\n",
      "decade\n",
      "later\n",
      "required\n",
      "indian\n",
      "law\n",
      ",\n",
      "made\n",
      "contact\n",
      "since\n",
      ".\n",
      "modi\n",
      "asserted\n",
      "travelled\n",
      "northern\n",
      "india\n",
      "two\n",
      "year\n",
      "leaving\n",
      "parental\n",
      "home\n",
      ",\n",
      "visiting\n",
      "number\n",
      "religious\n",
      "centre\n",
      ",\n",
      "detail\n",
      "travel\n",
      "emerged\n",
      ".\n",
      "upon\n",
      "return\n",
      "gujarat\n",
      "1971\n",
      ",\n",
      "became\n",
      "full-time\n",
      "worker\n",
      "r\n",
      ".\n",
      "state\n",
      "emergency\n",
      "declared\n",
      "prime\n",
      "minister\n",
      "indira\n",
      "gandhi\n",
      "1975\n",
      ",\n",
      "modi\n",
      "went\n",
      "hiding\n",
      ".\n",
      "r\n",
      "assigned\n",
      "bjp\n",
      "1985\n",
      "held\n",
      "several\n",
      "position\n",
      "within\n",
      "party\n",
      "hierarchy\n",
      "2001\n",
      ",\n",
      "rising\n",
      "rank\n",
      "general\n",
      "secretary\n",
      ".\n",
      "[\n",
      "c\n",
      "]\n",
      "modi\n",
      "appointed\n",
      "chief\n",
      "minister\n",
      "gujarat\n",
      "2001\n",
      "due\n",
      "keshubhai\n",
      "patel\n",
      "'s\n",
      "failing\n",
      "health\n",
      "poor\n",
      "public\n",
      "image\n",
      "following\n",
      "earthquake\n",
      "bhuj\n",
      ".\n",
      "modi\n",
      "elected\n",
      "legislative\n",
      "assembly\n",
      "soon\n",
      ".\n",
      "administration\n",
      "considered\n",
      "complicit\n",
      "2002\n",
      "gujarat\n",
      "riot\n",
      "1044\n",
      "people\n",
      "killed\n",
      ",\n",
      "three-quarters\n",
      "muslim\n",
      ",\n",
      "[\n",
      "]\n",
      "otherwise\n",
      "criticised\n",
      "management\n",
      "crisis\n",
      ".\n",
      "special\n",
      "investigation\n",
      "team\n",
      "appointed\n",
      "supreme\n",
      "court\n",
      "india\n",
      "found\n",
      "evidence\n",
      "initiate\n",
      "prosecution\n",
      "proceeding\n",
      "modi\n",
      "personally\n",
      ".\n",
      "[\n",
      "e\n",
      "]\n",
      "policy\n",
      "chief\n",
      "minister—credited\n",
      "encouraging\n",
      "economic\n",
      "growth—have\n",
      "received\n",
      "praise\n",
      ",\n",
      "administration\n",
      "criticised\n",
      "failing\n",
      "significantly\n",
      "improve\n",
      "health\n",
      ",\n",
      "poverty\n",
      "education\n",
      "index\n",
      "state\n",
      ".\n",
      "[\n",
      "f\n",
      "]\n",
      "modi\n",
      "led\n",
      "bjp\n",
      "2014\n",
      "general\n",
      "election\n",
      "gave\n",
      "party\n",
      "majority\n",
      "lower\n",
      "house\n",
      "indian\n",
      "parliament\n",
      ",\n",
      "lok\n",
      "sabha\n",
      ",\n",
      "first\n",
      "time\n",
      "single\n",
      "party\n",
      "since\n",
      "1984\n",
      ".\n",
      "modi\n",
      "'s\n",
      "administration\n",
      "tried\n",
      "raise\n",
      "foreign\n",
      "direct\n",
      "investment\n",
      "indian\n",
      "economy\n",
      "reduced\n",
      "spending\n",
      "healthcare\n",
      ",\n",
      "education\n",
      ",\n",
      "social\n",
      "welfare\n",
      "programme\n",
      ".\n",
      "modi\n",
      "centralised\n",
      "power\n",
      "abolishing\n",
      "planning\n",
      "commission\n",
      ".\n",
      "began\n",
      "high-profile\n",
      "sanitation\n",
      "campaign\n",
      ",\n",
      "controversially\n",
      "initiated\n",
      "demonetisation\n",
      "high-denomination\n",
      "banknote\n",
      "transformation\n",
      "taxation\n",
      "regime\n",
      ",\n",
      "weakened\n",
      "abolished\n",
      "environmental\n",
      "labour\n",
      "law\n",
      ".\n",
      "oversaw\n",
      "country\n",
      "'s\n",
      "response\n",
      "covid-19\n",
      "pandemic\n",
      ".\n",
      "modi\n",
      "received\n",
      "consistently\n",
      "high\n",
      "approval\n",
      "rating\n",
      "tenure\n",
      ".\n",
      "[\n",
      "12\n",
      "]\n",
      "[\n",
      "13\n",
      "]\n",
      "[\n",
      "14\n",
      "]\n"
     ]
    }
   ],
   "source": [
    "for i in corpus:\n",
    "    words=nltk.word_tokenize(i)\n",
    "    for word in words:\n",
    "        if word not in set(stopwords.words('english')):\n",
    "            print(lemmatizer.lemmatize(word))"
   ]
  },
  {
   "cell_type": "code",
   "execution_count": 236,
   "id": "f4b5ce26",
   "metadata": {},
   "outputs": [],
   "source": [
    "from sklearn.feature_extraction.text import CountVectorizer\n",
    "cv=CountVectorizer(binary=True,ngram_range=(2,3))\n",
    "X=cv.fit_transform(corpus)"
   ]
  },
  {
   "cell_type": "code",
   "execution_count": 237,
   "id": "8dc39bc7",
   "metadata": {},
   "outputs": [
    {
     "data": {
      "text/plain": [
       "{'modi born': 264,\n",
       " 'born raised': 61,\n",
       " 'raised vadnagar': 336,\n",
       " 'vadnagar northeastern': 412,\n",
       " 'northeastern gujarat': 281,\n",
       " 'gujarat completed': 169,\n",
       " 'completed secondary': 76,\n",
       " 'secondary education': 366,\n",
       " 'modi born raised': 265,\n",
       " 'born raised vadnagar': 62,\n",
       " 'raised vadnagar northeastern': 337,\n",
       " 'vadnagar northeastern gujarat': 413,\n",
       " 'northeastern gujarat completed': 282,\n",
       " 'gujarat completed secondary': 170,\n",
       " 'completed secondary education': 77,\n",
       " 'introduced age': 216,\n",
       " 'age eight': 38,\n",
       " 'introduced age eight': 217,\n",
       " 'discussed work': 111,\n",
       " 'work child': 426,\n",
       " 'child father': 72,\n",
       " 'father tea': 140,\n",
       " 'tea stall': 391,\n",
       " 'stall vadnagar': 381,\n",
       " 'vadnagar railway': 414,\n",
       " 'railway station': 332,\n",
       " 'station reliably': 385,\n",
       " 'reliably corroborated': 349,\n",
       " 'discussed work child': 112,\n",
       " 'work child father': 427,\n",
       " 'child father tea': 73,\n",
       " 'father tea stall': 141,\n",
       " 'tea stall vadnagar': 392,\n",
       " 'stall vadnagar railway': 382,\n",
       " 'vadnagar railway station': 415,\n",
       " 'railway station reliably': 333,\n",
       " 'station reliably corroborated': 386,\n",
       " 'age 18': 36,\n",
       " '18 modi': 5,\n",
       " 'modi married': 272,\n",
       " 'married jashodaben': 248,\n",
       " 'jashodaben chimanlal': 222,\n",
       " 'chimanlal modi': 74,\n",
       " 'modi abandoned': 256,\n",
       " 'abandoned soon': 22,\n",
       " 'soon after': 376,\n",
       " 'age 18 modi': 37,\n",
       " '18 modi married': 6,\n",
       " 'modi married jashodaben': 273,\n",
       " 'married jashodaben chimanlal': 249,\n",
       " 'jashodaben chimanlal modi': 223,\n",
       " 'chimanlal modi abandoned': 75,\n",
       " 'modi abandoned soon': 257,\n",
       " 'abandoned soon after': 23,\n",
       " 'first publicly': 142,\n",
       " 'publicly acknowledged': 328,\n",
       " 'acknowledged wife': 28,\n",
       " 'wife four': 422,\n",
       " 'four decade': 152,\n",
       " 'decade later': 99,\n",
       " 'later required': 229,\n",
       " 'required indian': 352,\n",
       " 'indian law': 206,\n",
       " 'law made': 231,\n",
       " 'made contact': 243,\n",
       " 'contact since': 84,\n",
       " 'first publicly acknowledged': 143,\n",
       " 'publicly acknowledged wife': 329,\n",
       " 'acknowledged wife four': 29,\n",
       " 'wife four decade': 423,\n",
       " 'four decade later': 153,\n",
       " 'decade later required': 100,\n",
       " 'later required indian': 230,\n",
       " 'required indian law': 353,\n",
       " 'indian law made': 207,\n",
       " 'law made contact': 232,\n",
       " 'made contact since': 244,\n",
       " 'modi asserted': 262,\n",
       " 'asserted travelled': 47,\n",
       " 'travelled northern': 404,\n",
       " 'northern india': 283,\n",
       " 'india two': 202,\n",
       " 'two year': 408,\n",
       " 'year leaving': 429,\n",
       " 'leaving parental': 233,\n",
       " 'parental home': 291,\n",
       " 'home visiting': 191,\n",
       " 'visiting number': 416,\n",
       " 'number religious': 285,\n",
       " 'religious centres': 350,\n",
       " 'centres detail': 67,\n",
       " 'detail travel': 107,\n",
       " 'travel emerged': 403,\n",
       " 'modi asserted travelled': 263,\n",
       " 'asserted travelled northern': 48,\n",
       " 'travelled northern india': 405,\n",
       " 'northern india two': 284,\n",
       " 'india two year': 203,\n",
       " 'two year leaving': 409,\n",
       " 'year leaving parental': 430,\n",
       " 'leaving parental home': 234,\n",
       " 'parental home visiting': 292,\n",
       " 'home visiting number': 192,\n",
       " 'visiting number religious': 417,\n",
       " 'number religious centres': 286,\n",
       " 'religious centres detail': 351,\n",
       " 'centres detail travel': 68,\n",
       " 'detail travel emerged': 108,\n",
       " 'upon return': 410,\n",
       " 'return gujarat': 356,\n",
       " 'gujarat 1971': 165,\n",
       " '1971 became': 8,\n",
       " 'became full': 53,\n",
       " 'full time': 154,\n",
       " 'time worker': 399,\n",
       " 'worker rss': 428,\n",
       " 'upon return gujarat': 411,\n",
       " 'return gujarat 1971': 357,\n",
       " 'gujarat 1971 became': 166,\n",
       " '1971 became full': 9,\n",
       " 'became full time': 54,\n",
       " 'full time worker': 155,\n",
       " 'time worker rss': 400,\n",
       " 'state emergency': 383,\n",
       " 'emergency declared': 128,\n",
       " 'declared prime': 101,\n",
       " 'prime minister': 318,\n",
       " 'minister indira': 254,\n",
       " 'indira gandhi': 210,\n",
       " 'gandhi 1975': 156,\n",
       " '1975 modi': 10,\n",
       " 'modi went': 277,\n",
       " 'went hiding': 421,\n",
       " 'state emergency declared': 384,\n",
       " 'emergency declared prime': 129,\n",
       " 'declared prime minister': 102,\n",
       " 'prime minister indira': 319,\n",
       " 'minister indira gandhi': 255,\n",
       " 'indira gandhi 1975': 211,\n",
       " 'gandhi 1975 modi': 157,\n",
       " '1975 modi went': 11,\n",
       " 'modi went hiding': 278,\n",
       " 'assigned bjp': 49,\n",
       " 'bjp 1985': 57,\n",
       " '1985 held': 12,\n",
       " 'held several': 181,\n",
       " 'several position': 367,\n",
       " 'position within': 310,\n",
       " 'within party': 424,\n",
       " 'party hierarchy': 295,\n",
       " 'hierarchy 2001': 183,\n",
       " '2001 rising': 16,\n",
       " 'rising rank': 360,\n",
       " 'rank general': 338,\n",
       " 'general secretary': 162,\n",
       " 'assigned bjp 1985': 50,\n",
       " 'bjp 1985 held': 58,\n",
       " '1985 held several': 13,\n",
       " 'held several position': 182,\n",
       " 'several position within': 368,\n",
       " 'position within party': 311,\n",
       " 'within party hierarchy': 425,\n",
       " 'party hierarchy 2001': 296,\n",
       " 'hierarchy 2001 rising': 184,\n",
       " '2001 rising rank': 17,\n",
       " 'rising rank general': 361,\n",
       " 'rank general secretary': 339,\n",
       " 'modi appointed': 260,\n",
       " 'appointed chief': 39,\n",
       " 'chief minister': 69,\n",
       " 'minister gujarat': 252,\n",
       " 'gujarat 2001': 167,\n",
       " '2001 due': 14,\n",
       " 'due keshubhai': 113,\n",
       " 'keshubhai patel': 224,\n",
       " 'patel failing': 301,\n",
       " 'failing health': 136,\n",
       " 'health poor': 175,\n",
       " 'poor public': 308,\n",
       " 'public image': 326,\n",
       " 'image following': 195,\n",
       " 'following earthquake': 146,\n",
       " 'earthquake bhuj': 115,\n",
       " 'modi appointed chief': 261,\n",
       " 'appointed chief minister': 40,\n",
       " 'chief minister gujarat': 71,\n",
       " 'minister gujarat 2001': 253,\n",
       " 'gujarat 2001 due': 168,\n",
       " '2001 due keshubhai': 15,\n",
       " 'due keshubhai patel': 114,\n",
       " 'keshubhai patel failing': 225,\n",
       " 'patel failing health': 302,\n",
       " 'failing health poor': 137,\n",
       " 'health poor public': 176,\n",
       " 'poor public image': 309,\n",
       " 'public image following': 327,\n",
       " 'image following earthquake': 196,\n",
       " 'following earthquake bhuj': 147,\n",
       " 'modi elected': 268,\n",
       " 'elected legislative': 124,\n",
       " 'legislative assembly': 237,\n",
       " 'assembly soon': 45,\n",
       " 'modi elected legislative': 269,\n",
       " 'elected legislative assembly': 125,\n",
       " 'legislative assembly soon': 238,\n",
       " 'assembly soon after': 46,\n",
       " 'administration considered': 30,\n",
       " 'considered complicit': 80,\n",
       " 'complicit 2002': 78,\n",
       " '2002 gujarat': 18,\n",
       " 'gujarat riot': 171,\n",
       " 'riot 1044': 358,\n",
       " '1044 people': 0,\n",
       " 'people killed': 303,\n",
       " 'killed three': 226,\n",
       " 'three quarters': 395,\n",
       " 'quarters muslim': 330,\n",
       " 'muslim otherwise': 279,\n",
       " 'otherwise criticised': 287,\n",
       " 'criticised management': 97,\n",
       " 'management crisis': 247,\n",
       " 'administration considered complicit': 31,\n",
       " 'considered complicit 2002': 81,\n",
       " 'complicit 2002 gujarat': 79,\n",
       " '2002 gujarat riot': 19,\n",
       " 'gujarat riot 1044': 172,\n",
       " 'riot 1044 people': 359,\n",
       " '1044 people killed': 1,\n",
       " 'people killed three': 304,\n",
       " 'killed three quarters': 227,\n",
       " 'three quarters muslim': 396,\n",
       " 'quarters muslim otherwise': 331,\n",
       " 'muslim otherwise criticised': 280,\n",
       " 'otherwise criticised management': 288,\n",
       " 'criticised management crisis': 98,\n",
       " 'special investigation': 377,\n",
       " 'investigation team': 218,\n",
       " 'team appointed': 393,\n",
       " 'appointed supreme': 41,\n",
       " 'supreme court': 387,\n",
       " 'court india': 89,\n",
       " 'india found': 200,\n",
       " 'found evidence': 150,\n",
       " 'evidence initiate': 134,\n",
       " 'initiate prosecution': 212,\n",
       " 'prosecution proceeding': 324,\n",
       " 'proceeding modi': 320,\n",
       " 'modi personally': 274,\n",
       " 'special investigation team': 378,\n",
       " 'investigation team appointed': 219,\n",
       " 'team appointed supreme': 394,\n",
       " 'appointed supreme court': 42,\n",
       " 'supreme court india': 388,\n",
       " 'court india found': 90,\n",
       " 'india found evidence': 201,\n",
       " 'found evidence initiate': 151,\n",
       " 'evidence initiate prosecution': 135,\n",
       " 'initiate prosecution proceeding': 213,\n",
       " 'prosecution proceeding modi': 325,\n",
       " 'proceeding modi personally': 321,\n",
       " 'policy chief': 306,\n",
       " 'minister credited': 250,\n",
       " 'credited encouraging': 93,\n",
       " 'encouraging economic': 130,\n",
       " 'economic growth': 116,\n",
       " 'growth have': 163,\n",
       " 'have received': 173,\n",
       " 'received praise': 343,\n",
       " 'praise administration': 316,\n",
       " 'administration criticised': 32,\n",
       " 'criticised failing': 95,\n",
       " 'failing significantly': 138,\n",
       " 'significantly improve': 369,\n",
       " 'improve health': 197,\n",
       " 'health poverty': 177,\n",
       " 'poverty education': 312,\n",
       " 'education index': 120,\n",
       " 'index state': 199,\n",
       " 'policy chief minister': 307,\n",
       " 'chief minister credited': 70,\n",
       " 'minister credited encouraging': 251,\n",
       " 'credited encouraging economic': 94,\n",
       " 'encouraging economic growth': 131,\n",
       " 'economic growth have': 117,\n",
       " 'growth have received': 164,\n",
       " 'have received praise': 174,\n",
       " 'received praise administration': 344,\n",
       " 'praise administration criticised': 317,\n",
       " 'administration criticised failing': 33,\n",
       " 'criticised failing significantly': 96,\n",
       " 'failing significantly improve': 139,\n",
       " 'significantly improve health': 370,\n",
       " 'improve health poverty': 198,\n",
       " 'health poverty education': 178,\n",
       " 'poverty education index': 313,\n",
       " 'education index state': 121,\n",
       " 'modi led': 270,\n",
       " 'led bjp': 235,\n",
       " 'bjp 2014': 59,\n",
       " '2014 general': 20,\n",
       " 'general election': 160,\n",
       " 'election gave': 126,\n",
       " 'gave party': 158,\n",
       " 'party majority': 297,\n",
       " 'majority lower': 245,\n",
       " 'lower house': 241,\n",
       " 'house indian': 193,\n",
       " 'indian parliament': 208,\n",
       " 'parliament lok': 293,\n",
       " 'lok sabha': 239,\n",
       " 'sabha first': 362,\n",
       " 'first time': 144,\n",
       " 'time single': 397,\n",
       " 'single party': 372,\n",
       " 'party since': 299,\n",
       " 'since 1984': 371,\n",
       " 'modi led bjp': 271,\n",
       " 'led bjp 2014': 236,\n",
       " 'bjp 2014 general': 60,\n",
       " '2014 general election': 21,\n",
       " 'general election gave': 161,\n",
       " 'election gave party': 127,\n",
       " 'gave party majority': 159,\n",
       " 'party majority lower': 298,\n",
       " 'majority lower house': 246,\n",
       " 'lower house indian': 242,\n",
       " 'house indian parliament': 194,\n",
       " 'indian parliament lok': 209,\n",
       " 'parliament lok sabha': 294,\n",
       " 'lok sabha first': 240,\n",
       " 'sabha first time': 363,\n",
       " 'first time single': 145,\n",
       " 'time single party': 398,\n",
       " 'single party since': 373,\n",
       " 'party since 1984': 300,\n",
       " 'modi administration': 258,\n",
       " 'administration tried': 34,\n",
       " 'tried raise': 406,\n",
       " 'raise foreign': 334,\n",
       " 'foreign direct': 148,\n",
       " 'direct investment': 109,\n",
       " 'investment indian': 220,\n",
       " 'indian economy': 204,\n",
       " 'economy reduced': 118,\n",
       " 'reduced spending': 345,\n",
       " 'spending healthcare': 379,\n",
       " 'healthcare education': 179,\n",
       " 'education social': 122,\n",
       " 'social welfare': 374,\n",
       " 'welfare programmes': 420,\n",
       " 'modi administration tried': 259,\n",
       " 'administration tried raise': 35,\n",
       " 'tried raise foreign': 407,\n",
       " 'raise foreign direct': 335,\n",
       " 'foreign direct investment': 149,\n",
       " 'direct investment indian': 110,\n",
       " 'investment indian economy': 221,\n",
       " 'indian economy reduced': 205,\n",
       " 'economy reduced spending': 119,\n",
       " 'reduced spending healthcare': 346,\n",
       " 'spending healthcare education': 380,\n",
       " 'healthcare education social': 180,\n",
       " 'education social welfare': 123,\n",
       " 'social welfare programmes': 375,\n",
       " 'modi centralised': 266,\n",
       " 'centralised power': 65,\n",
       " 'power abolishing': 314,\n",
       " 'abolishing planning': 26,\n",
       " 'planning commission': 305,\n",
       " 'modi centralised power': 267,\n",
       " 'centralised power abolishing': 66,\n",
       " 'power abolishing planning': 315,\n",
       " 'abolishing planning commission': 27,\n",
       " 'began high': 55,\n",
       " 'high profile': 189,\n",
       " 'profile sanitation': 322,\n",
       " 'sanitation campaign': 364,\n",
       " 'campaign controversially': 63,\n",
       " 'controversially initiated': 85,\n",
       " 'initiated demonetisation': 214,\n",
       " 'demonetisation high': 103,\n",
       " 'high denomination': 187,\n",
       " 'denomination banknote': 105,\n",
       " 'banknote transformation': 51,\n",
       " 'transformation taxation': 401,\n",
       " 'taxation regime': 389,\n",
       " 'regime weakened': 347,\n",
       " 'weakened abolished': 418,\n",
       " 'abolished environmental': 24,\n",
       " 'environmental labour': 132,\n",
       " 'labour laws': 228,\n",
       " 'began high profile': 56,\n",
       " 'high profile sanitation': 190,\n",
       " 'profile sanitation campaign': 323,\n",
       " 'sanitation campaign controversially': 365,\n",
       " 'campaign controversially initiated': 64,\n",
       " 'controversially initiated demonetisation': 86,\n",
       " 'initiated demonetisation high': 215,\n",
       " 'demonetisation high denomination': 104,\n",
       " 'high denomination banknote': 188,\n",
       " 'denomination banknote transformation': 106,\n",
       " 'banknote transformation taxation': 52,\n",
       " 'transformation taxation regime': 402,\n",
       " 'taxation regime weakened': 390,\n",
       " 'regime weakened abolished': 348,\n",
       " 'weakened abolished environmental': 419,\n",
       " 'abolished environmental labour': 25,\n",
       " 'environmental labour laws': 133,\n",
       " 'oversaw country': 289,\n",
       " 'country response': 87,\n",
       " 'response covid': 354,\n",
       " 'covid 19': 91,\n",
       " '19 pandemic': 7,\n",
       " 'oversaw country response': 290,\n",
       " 'country response covid': 88,\n",
       " 'response covid 19': 355,\n",
       " 'covid 19 pandemic': 92,\n",
       " 'modi received': 275,\n",
       " 'received consistently': 341,\n",
       " 'consistently high': 82,\n",
       " 'high approval': 185,\n",
       " 'approval rating': 43,\n",
       " 'rating tenure': 340,\n",
       " 'modi received consistently': 276,\n",
       " 'received consistently high': 342,\n",
       " 'consistently high approval': 83,\n",
       " 'high approval rating': 186,\n",
       " 'approval rating tenure': 44,\n",
       " '12 13': 2,\n",
       " '13 14': 4,\n",
       " '12 13 14': 3}"
      ]
     },
     "execution_count": 237,
     "metadata": {},
     "output_type": "execute_result"
    }
   ],
   "source": [
    "cv.vocabulary_"
   ]
  },
  {
   "cell_type": "code",
   "execution_count": 238,
   "id": "c966082e",
   "metadata": {},
   "outputs": [
    {
     "data": {
      "text/plain": [
       "'modi born raised vadnagar northeastern gujarat, completed secondary education.'"
      ]
     },
     "execution_count": 238,
     "metadata": {},
     "output_type": "execute_result"
    }
   ],
   "source": [
    "corpus[0]"
   ]
  },
  {
   "cell_type": "code",
   "execution_count": 239,
   "id": "43d40a9c",
   "metadata": {},
   "outputs": [
    {
     "data": {
      "text/plain": [
       "array([[0, 0, 0, 0, 0, 0, 0, 0, 0, 0, 0, 0, 0, 0, 0, 0, 0, 0, 0, 0, 0, 0,\n",
       "        0, 0, 0, 0, 0, 0, 0, 0, 0, 0, 0, 0, 0, 0, 0, 0, 0, 0, 0, 0, 0, 0,\n",
       "        0, 0, 0, 0, 0, 0, 0, 0, 0, 0, 0, 0, 0, 0, 0, 0, 0, 1, 1, 0, 0, 0,\n",
       "        0, 0, 0, 0, 0, 0, 0, 0, 0, 0, 1, 1, 0, 0, 0, 0, 0, 0, 0, 0, 0, 0,\n",
       "        0, 0, 0, 0, 0, 0, 0, 0, 0, 0, 0, 0, 0, 0, 0, 0, 0, 0, 0, 0, 0, 0,\n",
       "        0, 0, 0, 0, 0, 0, 0, 0, 0, 0, 0, 0, 0, 0, 0, 0, 0, 0, 0, 0, 0, 0,\n",
       "        0, 0, 0, 0, 0, 0, 0, 0, 0, 0, 0, 0, 0, 0, 0, 0, 0, 0, 0, 0, 0, 0,\n",
       "        0, 0, 0, 0, 0, 0, 0, 0, 0, 0, 0, 0, 0, 0, 0, 1, 1, 0, 0, 0, 0, 0,\n",
       "        0, 0, 0, 0, 0, 0, 0, 0, 0, 0, 0, 0, 0, 0, 0, 0, 0, 0, 0, 0, 0, 0,\n",
       "        0, 0, 0, 0, 0, 0, 0, 0, 0, 0, 0, 0, 0, 0, 0, 0, 0, 0, 0, 0, 0, 0,\n",
       "        0, 0, 0, 0, 0, 0, 0, 0, 0, 0, 0, 0, 0, 0, 0, 0, 0, 0, 0, 0, 0, 0,\n",
       "        0, 0, 0, 0, 0, 0, 0, 0, 0, 0, 0, 0, 0, 0, 0, 0, 0, 0, 0, 0, 0, 0,\n",
       "        1, 1, 0, 0, 0, 0, 0, 0, 0, 0, 0, 0, 0, 0, 0, 0, 0, 1, 1, 0, 0, 0,\n",
       "        0, 0, 0, 0, 0, 0, 0, 0, 0, 0, 0, 0, 0, 0, 0, 0, 0, 0, 0, 0, 0, 0,\n",
       "        0, 0, 0, 0, 0, 0, 0, 0, 0, 0, 0, 0, 0, 0, 0, 0, 0, 0, 0, 0, 0, 0,\n",
       "        0, 0, 0, 0, 0, 0, 1, 1, 0, 0, 0, 0, 0, 0, 0, 0, 0, 0, 0, 0, 0, 0,\n",
       "        0, 0, 0, 0, 0, 0, 0, 0, 0, 0, 0, 0, 0, 0, 1, 0, 0, 0, 0, 0, 0, 0,\n",
       "        0, 0, 0, 0, 0, 0, 0, 0, 0, 0, 0, 0, 0, 0, 0, 0, 0, 0, 0, 0, 0, 0,\n",
       "        0, 0, 0, 0, 0, 0, 0, 0, 0, 0, 0, 0, 0, 0, 0, 0, 1, 1, 0, 0, 0, 0,\n",
       "        0, 0, 0, 0, 0, 0, 0, 0, 0, 0, 0, 0, 0]], dtype=int64)"
      ]
     },
     "execution_count": 239,
     "metadata": {},
     "output_type": "execute_result"
    }
   ],
   "source": [
    "X[0].toarray()"
   ]
  },
  {
   "cell_type": "code",
   "execution_count": 246,
   "id": "e578f46c",
   "metadata": {},
   "outputs": [],
   "source": [
    "# TFIDF\n",
    "from sklearn.feature_extraction.text import TfidfVectorizer\n",
    "cv=TfidfVectorizer(ngram_range=(3,3),max_features=10)\n",
    "X=cv.fit_transform(corpus)"
   ]
  },
  {
   "cell_type": "code",
   "execution_count": 247,
   "id": "87b90a04",
   "metadata": {},
   "outputs": [
    {
     "data": {
      "text/plain": [
       "'modi born raised vadnagar northeastern gujarat, completed secondary education.'"
      ]
     },
     "execution_count": 247,
     "metadata": {},
     "output_type": "execute_result"
    }
   ],
   "source": [
    "corpus[0]"
   ]
  },
  {
   "cell_type": "code",
   "execution_count": 248,
   "id": "316395c9",
   "metadata": {},
   "outputs": [
    {
     "data": {
      "text/plain": [
       "array([[0., 0., 0., 0., 0., 0., 1., 0., 0., 0.]])"
      ]
     },
     "execution_count": 248,
     "metadata": {},
     "output_type": "execute_result"
    }
   ],
   "source": [
    "X[0].toarray()"
   ]
  }
 ],
 "metadata": {
  "kernelspec": {
   "display_name": "Python 3 (ipykernel)",
   "language": "python",
   "name": "python3"
  },
  "language_info": {
   "codemirror_mode": {
    "name": "ipython",
    "version": 3
   },
   "file_extension": ".py",
   "mimetype": "text/x-python",
   "name": "python",
   "nbconvert_exporter": "python",
   "pygments_lexer": "ipython3",
   "version": "3.9.12"
  },
  "latex_envs": {
   "LaTeX_envs_menu_present": true,
   "autoclose": false,
   "autocomplete": true,
   "bibliofile": "biblio.bib",
   "cite_by": "apalike",
   "current_citInitial": 1,
   "eqLabelWithNumbers": true,
   "eqNumInitial": 1,
   "hotkeys": {
    "equation": "Ctrl-E",
    "itemize": "Ctrl-I"
   },
   "labels_anchors": false,
   "latex_user_defs": false,
   "report_style_numbering": false,
   "user_envs_cfg": false
  },
  "varInspector": {
   "cols": {
    "lenName": 16,
    "lenType": 16,
    "lenVar": 40
   },
   "kernels_config": {
    "python": {
     "delete_cmd_postfix": "",
     "delete_cmd_prefix": "del ",
     "library": "var_list.py",
     "varRefreshCmd": "print(var_dic_list())"
    },
    "r": {
     "delete_cmd_postfix": ") ",
     "delete_cmd_prefix": "rm(",
     "library": "var_list.r",
     "varRefreshCmd": "cat(var_dic_list()) "
    }
   },
   "types_to_exclude": [
    "module",
    "function",
    "builtin_function_or_method",
    "instance",
    "_Feature"
   ],
   "window_display": false
  }
 },
 "nbformat": 4,
 "nbformat_minor": 5
}
